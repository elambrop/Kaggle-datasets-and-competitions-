{
 "cells": [
  {
   "cell_type": "markdown",
   "metadata": {
    "_cell_guid": "79c7e3d0-c299-4dcb-8224-4455121ee9b0",
    "_uuid": "d629ff2d2480ee46fbb7e2d37f6b5fab8052498a",
    "collapsed": true,
    "papermill": {
     "duration": 0.074296,
     "end_time": "2020-11-26T08:07:36.168924",
     "exception": false,
     "start_time": "2020-11-26T08:07:36.094628",
     "status": "completed"
    },
    "tags": []
   },
   "source": [
    "# Titanic-Basic EDA and modeling\n",
    "\n",
    "This is a notebook to explore the Titanic Dataset and attempt to predict the survivors based on the information we extract."
   ]
  },
  {
   "cell_type": "markdown",
   "metadata": {
    "papermill": {
     "duration": 0.068859,
     "end_time": "2020-11-26T08:07:36.314327",
     "exception": false,
     "start_time": "2020-11-26T08:07:36.245468",
     "status": "completed"
    },
    "tags": []
   },
   "source": [
    "# Background\n",
    "\n",
    "The Titanic disaster is probably the most famous maritime disaster in history.\n",
    "The ship sank on its maiden voyage from Southampton to New York, taking with it a lot of its passengers. It is still the deadliest peacetime sinking of a cruiseship to date.\n",
    "\n",
    "The Titanic Dataset contains information about the passengers of the Titanic.The task is to predict whether a number of passengers survived or not."
   ]
  },
  {
   "cell_type": "markdown",
   "metadata": {
    "papermill": {
     "duration": 0.090743,
     "end_time": "2020-11-26T08:07:36.472689",
     "exception": false,
     "start_time": "2020-11-26T08:07:36.381946",
     "status": "completed"
    },
    "tags": []
   },
   "source": [
    "First we import the relevant libraries and the dataset itself."
   ]
  },
  {
   "cell_type": "code",
   "execution_count": 1,
   "metadata": {
    "execution": {
     "iopub.execute_input": "2020-11-26T08:07:36.642453Z",
     "iopub.status.busy": "2020-11-26T08:07:36.641128Z",
     "iopub.status.idle": "2020-11-26T08:07:37.934619Z",
     "shell.execute_reply": "2020-11-26T08:07:37.933523Z"
    },
    "papermill": {
     "duration": 1.374006,
     "end_time": "2020-11-26T08:07:37.934773",
     "exception": false,
     "start_time": "2020-11-26T08:07:36.560767",
     "status": "completed"
    },
    "tags": []
   },
   "outputs": [],
   "source": [
    "import pandas as pd\n",
    "import numpy as np\n",
    "import seaborn as sns\n",
    "import matplotlib.pyplot as plt\n",
    "\n",
    "df = pd.read_csv('../input/titanic/train.csv')"
   ]
  },
  {
   "cell_type": "code",
   "execution_count": 2,
   "metadata": {
    "execution": {
     "iopub.execute_input": "2020-11-26T08:07:38.101499Z",
     "iopub.status.busy": "2020-11-26T08:07:38.093835Z",
     "iopub.status.idle": "2020-11-26T08:07:38.117357Z",
     "shell.execute_reply": "2020-11-26T08:07:38.118135Z"
    },
    "papermill": {
     "duration": 0.116455,
     "end_time": "2020-11-26T08:07:38.118336",
     "exception": false,
     "start_time": "2020-11-26T08:07:38.001881",
     "status": "completed"
    },
    "tags": []
   },
   "outputs": [
    {
     "data": {
      "text/html": [
       "<div>\n",
       "<style scoped>\n",
       "    .dataframe tbody tr th:only-of-type {\n",
       "        vertical-align: middle;\n",
       "    }\n",
       "\n",
       "    .dataframe tbody tr th {\n",
       "        vertical-align: top;\n",
       "    }\n",
       "\n",
       "    .dataframe thead th {\n",
       "        text-align: right;\n",
       "    }\n",
       "</style>\n",
       "<table border=\"1\" class=\"dataframe\">\n",
       "  <thead>\n",
       "    <tr style=\"text-align: right;\">\n",
       "      <th></th>\n",
       "      <th>PassengerId</th>\n",
       "      <th>Survived</th>\n",
       "      <th>Pclass</th>\n",
       "      <th>Name</th>\n",
       "      <th>Sex</th>\n",
       "      <th>Age</th>\n",
       "      <th>SibSp</th>\n",
       "      <th>Parch</th>\n",
       "      <th>Ticket</th>\n",
       "      <th>Fare</th>\n",
       "      <th>Cabin</th>\n",
       "      <th>Embarked</th>\n",
       "    </tr>\n",
       "  </thead>\n",
       "  <tbody>\n",
       "    <tr>\n",
       "      <th>0</th>\n",
       "      <td>1</td>\n",
       "      <td>0</td>\n",
       "      <td>3</td>\n",
       "      <td>Braund, Mr. Owen Harris</td>\n",
       "      <td>male</td>\n",
       "      <td>22.0</td>\n",
       "      <td>1</td>\n",
       "      <td>0</td>\n",
       "      <td>A/5 21171</td>\n",
       "      <td>7.2500</td>\n",
       "      <td>NaN</td>\n",
       "      <td>S</td>\n",
       "    </tr>\n",
       "    <tr>\n",
       "      <th>1</th>\n",
       "      <td>2</td>\n",
       "      <td>1</td>\n",
       "      <td>1</td>\n",
       "      <td>Cumings, Mrs. John Bradley (Florence Briggs Th...</td>\n",
       "      <td>female</td>\n",
       "      <td>38.0</td>\n",
       "      <td>1</td>\n",
       "      <td>0</td>\n",
       "      <td>PC 17599</td>\n",
       "      <td>71.2833</td>\n",
       "      <td>C85</td>\n",
       "      <td>C</td>\n",
       "    </tr>\n",
       "    <tr>\n",
       "      <th>2</th>\n",
       "      <td>3</td>\n",
       "      <td>1</td>\n",
       "      <td>3</td>\n",
       "      <td>Heikkinen, Miss. Laina</td>\n",
       "      <td>female</td>\n",
       "      <td>26.0</td>\n",
       "      <td>0</td>\n",
       "      <td>0</td>\n",
       "      <td>STON/O2. 3101282</td>\n",
       "      <td>7.9250</td>\n",
       "      <td>NaN</td>\n",
       "      <td>S</td>\n",
       "    </tr>\n",
       "    <tr>\n",
       "      <th>3</th>\n",
       "      <td>4</td>\n",
       "      <td>1</td>\n",
       "      <td>1</td>\n",
       "      <td>Futrelle, Mrs. Jacques Heath (Lily May Peel)</td>\n",
       "      <td>female</td>\n",
       "      <td>35.0</td>\n",
       "      <td>1</td>\n",
       "      <td>0</td>\n",
       "      <td>113803</td>\n",
       "      <td>53.1000</td>\n",
       "      <td>C123</td>\n",
       "      <td>S</td>\n",
       "    </tr>\n",
       "    <tr>\n",
       "      <th>4</th>\n",
       "      <td>5</td>\n",
       "      <td>0</td>\n",
       "      <td>3</td>\n",
       "      <td>Allen, Mr. William Henry</td>\n",
       "      <td>male</td>\n",
       "      <td>35.0</td>\n",
       "      <td>0</td>\n",
       "      <td>0</td>\n",
       "      <td>373450</td>\n",
       "      <td>8.0500</td>\n",
       "      <td>NaN</td>\n",
       "      <td>S</td>\n",
       "    </tr>\n",
       "  </tbody>\n",
       "</table>\n",
       "</div>"
      ],
      "text/plain": [
       "   PassengerId  Survived  Pclass  \\\n",
       "0            1         0       3   \n",
       "1            2         1       1   \n",
       "2            3         1       3   \n",
       "3            4         1       1   \n",
       "4            5         0       3   \n",
       "\n",
       "                                                Name     Sex   Age  SibSp  \\\n",
       "0                            Braund, Mr. Owen Harris    male  22.0      1   \n",
       "1  Cumings, Mrs. John Bradley (Florence Briggs Th...  female  38.0      1   \n",
       "2                             Heikkinen, Miss. Laina  female  26.0      0   \n",
       "3       Futrelle, Mrs. Jacques Heath (Lily May Peel)  female  35.0      1   \n",
       "4                           Allen, Mr. William Henry    male  35.0      0   \n",
       "\n",
       "   Parch            Ticket     Fare Cabin Embarked  \n",
       "0      0         A/5 21171   7.2500   NaN        S  \n",
       "1      0          PC 17599  71.2833   C85        C  \n",
       "2      0  STON/O2. 3101282   7.9250   NaN        S  \n",
       "3      0            113803  53.1000  C123        S  \n",
       "4      0            373450   8.0500   NaN        S  "
      ]
     },
     "execution_count": 2,
     "metadata": {},
     "output_type": "execute_result"
    }
   ],
   "source": [
    "df.head()"
   ]
  },
  {
   "cell_type": "code",
   "execution_count": 3,
   "metadata": {
    "execution": {
     "iopub.execute_input": "2020-11-26T08:07:38.284664Z",
     "iopub.status.busy": "2020-11-26T08:07:38.283827Z",
     "iopub.status.idle": "2020-11-26T08:07:38.288400Z",
     "shell.execute_reply": "2020-11-26T08:07:38.287530Z"
    },
    "papermill": {
     "duration": 0.094348,
     "end_time": "2020-11-26T08:07:38.288597",
     "exception": false,
     "start_time": "2020-11-26T08:07:38.194249",
     "status": "completed"
    },
    "tags": []
   },
   "outputs": [
    {
     "name": "stdout",
     "output_type": "stream",
     "text": [
      "<class 'pandas.core.frame.DataFrame'>\n",
      "RangeIndex: 891 entries, 0 to 890\n",
      "Data columns (total 12 columns):\n",
      " #   Column       Non-Null Count  Dtype  \n",
      "---  ------       --------------  -----  \n",
      " 0   PassengerId  891 non-null    int64  \n",
      " 1   Survived     891 non-null    int64  \n",
      " 2   Pclass       891 non-null    int64  \n",
      " 3   Name         891 non-null    object \n",
      " 4   Sex          891 non-null    object \n",
      " 5   Age          714 non-null    float64\n",
      " 6   SibSp        891 non-null    int64  \n",
      " 7   Parch        891 non-null    int64  \n",
      " 8   Ticket       891 non-null    object \n",
      " 9   Fare         891 non-null    float64\n",
      " 10  Cabin        204 non-null    object \n",
      " 11  Embarked     889 non-null    object \n",
      "dtypes: float64(2), int64(5), object(5)\n",
      "memory usage: 83.7+ KB\n"
     ]
    }
   ],
   "source": [
    "df.info()"
   ]
  },
  {
   "cell_type": "markdown",
   "metadata": {
    "papermill": {
     "duration": 0.067685,
     "end_time": "2020-11-26T08:07:38.428634",
     "exception": false,
     "start_time": "2020-11-26T08:07:38.360949",
     "status": "completed"
    },
    "tags": []
   },
   "source": [
    "We can see that the dataset contains 12 columns, 7 numerical and 5 categorical.\n",
    "The 'Survived','Name','Sex','Age' columns are self-explanatory, as for the rest:\n",
    "\n",
    "**Pclass** indicates the socioeconomic status of the passenger.\n",
    "Technically it is a numeric column, however it is actually categorical.\n",
    "\n",
    "**Ticket** is the ticket number of the passenger\n",
    "\n",
    "**Fare** is the ticket price\n",
    "\n",
    "**Cabin** is the cabin number of the passenger\n",
    "\n",
    "**Embarked** is the port from where the passenger embarked\n",
    "\n",
    "**SibSp** is the number of siblings or spouses aboard the ship for each passenger and\n",
    "\n",
    "**Parch** is the number of parents or children aboard the ship\n",
    "\n",
    "It also looks like a few columns have missing values, something that we'll need to adress later."
   ]
  },
  {
   "cell_type": "markdown",
   "metadata": {
    "papermill": {
     "duration": 0.074356,
     "end_time": "2020-11-26T08:07:38.577800",
     "exception": false,
     "start_time": "2020-11-26T08:07:38.503444",
     "status": "completed"
    },
    "tags": []
   },
   "source": [
    "## EDA\n",
    "\n",
    "In order to select the features to use for our models, we're going to look at the distribution for each of the variables and its relations to the target variable"
   ]
  },
  {
   "cell_type": "markdown",
   "metadata": {
    "papermill": {
     "duration": 0.072952,
     "end_time": "2020-11-26T08:07:38.722754",
     "exception": false,
     "start_time": "2020-11-26T08:07:38.649802",
     "status": "completed"
    },
    "tags": []
   },
   "source": [
    "First, we split the dataframe into two, one for the numerical and one for the categorical variables"
   ]
  },
  {
   "cell_type": "code",
   "execution_count": 4,
   "metadata": {
    "execution": {
     "iopub.execute_input": "2020-11-26T08:07:38.880489Z",
     "iopub.status.busy": "2020-11-26T08:07:38.877723Z",
     "iopub.status.idle": "2020-11-26T08:07:38.884844Z",
     "shell.execute_reply": "2020-11-26T08:07:38.883949Z"
    },
    "papermill": {
     "duration": 0.092536,
     "end_time": "2020-11-26T08:07:38.884988",
     "exception": false,
     "start_time": "2020-11-26T08:07:38.792452",
     "status": "completed"
    },
    "tags": []
   },
   "outputs": [],
   "source": [
    "df_num = df.select_dtypes(exclude='object')\n",
    "df_cat = df.select_dtypes(include='object')"
   ]
  },
  {
   "cell_type": "code",
   "execution_count": 5,
   "metadata": {
    "execution": {
     "iopub.execute_input": "2020-11-26T08:07:39.048473Z",
     "iopub.status.busy": "2020-11-26T08:07:39.047186Z",
     "iopub.status.idle": "2020-11-26T08:07:39.053639Z",
     "shell.execute_reply": "2020-11-26T08:07:39.052740Z"
    },
    "papermill": {
     "duration": 0.095851,
     "end_time": "2020-11-26T08:07:39.053789",
     "exception": false,
     "start_time": "2020-11-26T08:07:38.957938",
     "status": "completed"
    },
    "tags": []
   },
   "outputs": [
    {
     "data": {
      "text/html": [
       "<div>\n",
       "<style scoped>\n",
       "    .dataframe tbody tr th:only-of-type {\n",
       "        vertical-align: middle;\n",
       "    }\n",
       "\n",
       "    .dataframe tbody tr th {\n",
       "        vertical-align: top;\n",
       "    }\n",
       "\n",
       "    .dataframe thead th {\n",
       "        text-align: right;\n",
       "    }\n",
       "</style>\n",
       "<table border=\"1\" class=\"dataframe\">\n",
       "  <thead>\n",
       "    <tr style=\"text-align: right;\">\n",
       "      <th></th>\n",
       "      <th>PassengerId</th>\n",
       "      <th>Survived</th>\n",
       "      <th>Pclass</th>\n",
       "      <th>Age</th>\n",
       "      <th>SibSp</th>\n",
       "      <th>Parch</th>\n",
       "      <th>Fare</th>\n",
       "    </tr>\n",
       "  </thead>\n",
       "  <tbody>\n",
       "    <tr>\n",
       "      <th>0</th>\n",
       "      <td>1</td>\n",
       "      <td>0</td>\n",
       "      <td>3</td>\n",
       "      <td>22.0</td>\n",
       "      <td>1</td>\n",
       "      <td>0</td>\n",
       "      <td>7.2500</td>\n",
       "    </tr>\n",
       "    <tr>\n",
       "      <th>1</th>\n",
       "      <td>2</td>\n",
       "      <td>1</td>\n",
       "      <td>1</td>\n",
       "      <td>38.0</td>\n",
       "      <td>1</td>\n",
       "      <td>0</td>\n",
       "      <td>71.2833</td>\n",
       "    </tr>\n",
       "    <tr>\n",
       "      <th>2</th>\n",
       "      <td>3</td>\n",
       "      <td>1</td>\n",
       "      <td>3</td>\n",
       "      <td>26.0</td>\n",
       "      <td>0</td>\n",
       "      <td>0</td>\n",
       "      <td>7.9250</td>\n",
       "    </tr>\n",
       "    <tr>\n",
       "      <th>3</th>\n",
       "      <td>4</td>\n",
       "      <td>1</td>\n",
       "      <td>1</td>\n",
       "      <td>35.0</td>\n",
       "      <td>1</td>\n",
       "      <td>0</td>\n",
       "      <td>53.1000</td>\n",
       "    </tr>\n",
       "    <tr>\n",
       "      <th>4</th>\n",
       "      <td>5</td>\n",
       "      <td>0</td>\n",
       "      <td>3</td>\n",
       "      <td>35.0</td>\n",
       "      <td>0</td>\n",
       "      <td>0</td>\n",
       "      <td>8.0500</td>\n",
       "    </tr>\n",
       "  </tbody>\n",
       "</table>\n",
       "</div>"
      ],
      "text/plain": [
       "   PassengerId  Survived  Pclass   Age  SibSp  Parch     Fare\n",
       "0            1         0       3  22.0      1      0   7.2500\n",
       "1            2         1       1  38.0      1      0  71.2833\n",
       "2            3         1       3  26.0      0      0   7.9250\n",
       "3            4         1       1  35.0      1      0  53.1000\n",
       "4            5         0       3  35.0      0      0   8.0500"
      ]
     },
     "execution_count": 5,
     "metadata": {},
     "output_type": "execute_result"
    }
   ],
   "source": [
    "df_num.head()"
   ]
  },
  {
   "cell_type": "code",
   "execution_count": 6,
   "metadata": {
    "execution": {
     "iopub.execute_input": "2020-11-26T08:07:39.221834Z",
     "iopub.status.busy": "2020-11-26T08:07:39.220461Z",
     "iopub.status.idle": "2020-11-26T08:07:39.226265Z",
     "shell.execute_reply": "2020-11-26T08:07:39.225440Z"
    },
    "papermill": {
     "duration": 0.097648,
     "end_time": "2020-11-26T08:07:39.226404",
     "exception": false,
     "start_time": "2020-11-26T08:07:39.128756",
     "status": "completed"
    },
    "tags": []
   },
   "outputs": [
    {
     "data": {
      "text/html": [
       "<div>\n",
       "<style scoped>\n",
       "    .dataframe tbody tr th:only-of-type {\n",
       "        vertical-align: middle;\n",
       "    }\n",
       "\n",
       "    .dataframe tbody tr th {\n",
       "        vertical-align: top;\n",
       "    }\n",
       "\n",
       "    .dataframe thead th {\n",
       "        text-align: right;\n",
       "    }\n",
       "</style>\n",
       "<table border=\"1\" class=\"dataframe\">\n",
       "  <thead>\n",
       "    <tr style=\"text-align: right;\">\n",
       "      <th></th>\n",
       "      <th>Name</th>\n",
       "      <th>Sex</th>\n",
       "      <th>Ticket</th>\n",
       "      <th>Cabin</th>\n",
       "      <th>Embarked</th>\n",
       "    </tr>\n",
       "  </thead>\n",
       "  <tbody>\n",
       "    <tr>\n",
       "      <th>0</th>\n",
       "      <td>Braund, Mr. Owen Harris</td>\n",
       "      <td>male</td>\n",
       "      <td>A/5 21171</td>\n",
       "      <td>NaN</td>\n",
       "      <td>S</td>\n",
       "    </tr>\n",
       "    <tr>\n",
       "      <th>1</th>\n",
       "      <td>Cumings, Mrs. John Bradley (Florence Briggs Th...</td>\n",
       "      <td>female</td>\n",
       "      <td>PC 17599</td>\n",
       "      <td>C85</td>\n",
       "      <td>C</td>\n",
       "    </tr>\n",
       "    <tr>\n",
       "      <th>2</th>\n",
       "      <td>Heikkinen, Miss. Laina</td>\n",
       "      <td>female</td>\n",
       "      <td>STON/O2. 3101282</td>\n",
       "      <td>NaN</td>\n",
       "      <td>S</td>\n",
       "    </tr>\n",
       "    <tr>\n",
       "      <th>3</th>\n",
       "      <td>Futrelle, Mrs. Jacques Heath (Lily May Peel)</td>\n",
       "      <td>female</td>\n",
       "      <td>113803</td>\n",
       "      <td>C123</td>\n",
       "      <td>S</td>\n",
       "    </tr>\n",
       "    <tr>\n",
       "      <th>4</th>\n",
       "      <td>Allen, Mr. William Henry</td>\n",
       "      <td>male</td>\n",
       "      <td>373450</td>\n",
       "      <td>NaN</td>\n",
       "      <td>S</td>\n",
       "    </tr>\n",
       "  </tbody>\n",
       "</table>\n",
       "</div>"
      ],
      "text/plain": [
       "                                                Name     Sex  \\\n",
       "0                            Braund, Mr. Owen Harris    male   \n",
       "1  Cumings, Mrs. John Bradley (Florence Briggs Th...  female   \n",
       "2                             Heikkinen, Miss. Laina  female   \n",
       "3       Futrelle, Mrs. Jacques Heath (Lily May Peel)  female   \n",
       "4                           Allen, Mr. William Henry    male   \n",
       "\n",
       "             Ticket Cabin Embarked  \n",
       "0         A/5 21171   NaN        S  \n",
       "1          PC 17599   C85        C  \n",
       "2  STON/O2. 3101282   NaN        S  \n",
       "3            113803  C123        S  \n",
       "4            373450   NaN        S  "
      ]
     },
     "execution_count": 6,
     "metadata": {},
     "output_type": "execute_result"
    }
   ],
   "source": [
    "df_cat.head()"
   ]
  },
  {
   "cell_type": "markdown",
   "metadata": {
    "papermill": {
     "duration": 0.0752,
     "end_time": "2020-11-26T08:07:39.376451",
     "exception": false,
     "start_time": "2020-11-26T08:07:39.301251",
     "status": "completed"
    },
    "tags": []
   },
   "source": [
    "The describe() method can give us a quick glance at some basic descriptive statistics."
   ]
  },
  {
   "cell_type": "code",
   "execution_count": 7,
   "metadata": {
    "execution": {
     "iopub.execute_input": "2020-11-26T08:07:39.539378Z",
     "iopub.status.busy": "2020-11-26T08:07:39.538270Z",
     "iopub.status.idle": "2020-11-26T08:07:39.573738Z",
     "shell.execute_reply": "2020-11-26T08:07:39.572686Z"
    },
    "papermill": {
     "duration": 0.125114,
     "end_time": "2020-11-26T08:07:39.573992",
     "exception": false,
     "start_time": "2020-11-26T08:07:39.448878",
     "status": "completed"
    },
    "tags": []
   },
   "outputs": [
    {
     "data": {
      "text/html": [
       "<div>\n",
       "<style scoped>\n",
       "    .dataframe tbody tr th:only-of-type {\n",
       "        vertical-align: middle;\n",
       "    }\n",
       "\n",
       "    .dataframe tbody tr th {\n",
       "        vertical-align: top;\n",
       "    }\n",
       "\n",
       "    .dataframe thead th {\n",
       "        text-align: right;\n",
       "    }\n",
       "</style>\n",
       "<table border=\"1\" class=\"dataframe\">\n",
       "  <thead>\n",
       "    <tr style=\"text-align: right;\">\n",
       "      <th></th>\n",
       "      <th>Survived</th>\n",
       "      <th>Pclass</th>\n",
       "      <th>Age</th>\n",
       "      <th>SibSp</th>\n",
       "      <th>Parch</th>\n",
       "      <th>Fare</th>\n",
       "    </tr>\n",
       "  </thead>\n",
       "  <tbody>\n",
       "    <tr>\n",
       "      <th>count</th>\n",
       "      <td>891.000000</td>\n",
       "      <td>891.000000</td>\n",
       "      <td>714.000000</td>\n",
       "      <td>891.000000</td>\n",
       "      <td>891.000000</td>\n",
       "      <td>891.000000</td>\n",
       "    </tr>\n",
       "    <tr>\n",
       "      <th>mean</th>\n",
       "      <td>0.383838</td>\n",
       "      <td>2.308642</td>\n",
       "      <td>29.699118</td>\n",
       "      <td>0.523008</td>\n",
       "      <td>0.381594</td>\n",
       "      <td>32.204208</td>\n",
       "    </tr>\n",
       "    <tr>\n",
       "      <th>std</th>\n",
       "      <td>0.486592</td>\n",
       "      <td>0.836071</td>\n",
       "      <td>14.526497</td>\n",
       "      <td>1.102743</td>\n",
       "      <td>0.806057</td>\n",
       "      <td>49.693429</td>\n",
       "    </tr>\n",
       "    <tr>\n",
       "      <th>min</th>\n",
       "      <td>0.000000</td>\n",
       "      <td>1.000000</td>\n",
       "      <td>0.420000</td>\n",
       "      <td>0.000000</td>\n",
       "      <td>0.000000</td>\n",
       "      <td>0.000000</td>\n",
       "    </tr>\n",
       "    <tr>\n",
       "      <th>25%</th>\n",
       "      <td>0.000000</td>\n",
       "      <td>2.000000</td>\n",
       "      <td>20.125000</td>\n",
       "      <td>0.000000</td>\n",
       "      <td>0.000000</td>\n",
       "      <td>7.910400</td>\n",
       "    </tr>\n",
       "    <tr>\n",
       "      <th>50%</th>\n",
       "      <td>0.000000</td>\n",
       "      <td>3.000000</td>\n",
       "      <td>28.000000</td>\n",
       "      <td>0.000000</td>\n",
       "      <td>0.000000</td>\n",
       "      <td>14.454200</td>\n",
       "    </tr>\n",
       "    <tr>\n",
       "      <th>75%</th>\n",
       "      <td>1.000000</td>\n",
       "      <td>3.000000</td>\n",
       "      <td>38.000000</td>\n",
       "      <td>1.000000</td>\n",
       "      <td>0.000000</td>\n",
       "      <td>31.000000</td>\n",
       "    </tr>\n",
       "    <tr>\n",
       "      <th>max</th>\n",
       "      <td>1.000000</td>\n",
       "      <td>3.000000</td>\n",
       "      <td>80.000000</td>\n",
       "      <td>8.000000</td>\n",
       "      <td>6.000000</td>\n",
       "      <td>512.329200</td>\n",
       "    </tr>\n",
       "  </tbody>\n",
       "</table>\n",
       "</div>"
      ],
      "text/plain": [
       "         Survived      Pclass         Age       SibSp       Parch        Fare\n",
       "count  891.000000  891.000000  714.000000  891.000000  891.000000  891.000000\n",
       "mean     0.383838    2.308642   29.699118    0.523008    0.381594   32.204208\n",
       "std      0.486592    0.836071   14.526497    1.102743    0.806057   49.693429\n",
       "min      0.000000    1.000000    0.420000    0.000000    0.000000    0.000000\n",
       "25%      0.000000    2.000000   20.125000    0.000000    0.000000    7.910400\n",
       "50%      0.000000    3.000000   28.000000    0.000000    0.000000   14.454200\n",
       "75%      1.000000    3.000000   38.000000    1.000000    0.000000   31.000000\n",
       "max      1.000000    3.000000   80.000000    8.000000    6.000000  512.329200"
      ]
     },
     "execution_count": 7,
     "metadata": {},
     "output_type": "execute_result"
    }
   ],
   "source": [
    "df_num.describe().drop('PassengerId',axis=1)"
   ]
  },
  {
   "cell_type": "markdown",
   "metadata": {
    "papermill": {
     "duration": 0.077071,
     "end_time": "2020-11-26T08:07:39.728765",
     "exception": false,
     "start_time": "2020-11-26T08:07:39.651694",
     "status": "completed"
    },
    "tags": []
   },
   "source": [
    "The most important thing to note here is that most of the passengers (~62%) did not survive."
   ]
  },
  {
   "cell_type": "markdown",
   "metadata": {
    "papermill": {
     "duration": 0.074721,
     "end_time": "2020-11-26T08:07:39.877775",
     "exception": false,
     "start_time": "2020-11-26T08:07:39.803054",
     "status": "completed"
    },
    "tags": []
   },
   "source": [
    "Next, we will plot the distributions of the variables while paying attention to the relationship with the target variable too, but first we will look at a visualization of the correlations between variables."
   ]
  },
  {
   "cell_type": "code",
   "execution_count": 8,
   "metadata": {
    "execution": {
     "iopub.execute_input": "2020-11-26T08:07:40.055405Z",
     "iopub.status.busy": "2020-11-26T08:07:40.054248Z",
     "iopub.status.idle": "2020-11-26T08:07:40.724849Z",
     "shell.execute_reply": "2020-11-26T08:07:40.725787Z"
    },
    "papermill": {
     "duration": 0.763115,
     "end_time": "2020-11-26T08:07:40.725971",
     "exception": false,
     "start_time": "2020-11-26T08:07:39.962856",
     "status": "completed"
    },
    "tags": []
   },
   "outputs": [
    {
     "data": {
      "text/plain": [
       "<matplotlib.axes._subplots.AxesSubplot at 0x7fb891978090>"
      ]
     },
     "execution_count": 8,
     "metadata": {},
     "output_type": "execute_result"
    },
    {
     "data": {
      "image/png": "[encoded data removed]",
      "text/plain": [
       "<Figure size 576x432 with 2 Axes>"
      ]
     },
     "metadata": {
      "needs_background": "light"
     },
     "output_type": "display_data"
    }
   ],
   "source": [
    "num_corrs = df_num.corr()\n",
    "\n",
    "plt.figure(figsize=(8,6))\n",
    "sns.heatmap(num_corrs, annot=True)"
   ]
  },
  {
   "cell_type": "markdown",
   "metadata": {
    "papermill": {
     "duration": 0.077758,
     "end_time": "2020-11-26T08:07:40.885466",
     "exception": false,
     "start_time": "2020-11-26T08:07:40.807708",
     "status": "completed"
    },
    "tags": []
   },
   "source": [
    "The variables that seem to affect the survival rate the most are Fare and Pclass, indicating that the financial position of a passenger probably is an important factor for survival.\n",
    "\n",
    "Somewhat confusingly,Pclass and Fare are highly anticorrelated, but this happens because the smaller values for Pclass indicate higher status.\n",
    "\n",
    "The rest of the variables look like they have a smaller impact on the probability of survival. SibSp and Parch have a high correlation between them since both are related to the total number of relatives on board. They also both have a significant anticorrelation with the Age variable.\n",
    "\n",
    "Let's now plot the distributions of the variables.\n"
   ]
  },
  {
   "cell_type": "code",
   "execution_count": 9,
   "metadata": {
    "execution": {
     "iopub.execute_input": "2020-11-26T08:07:41.055259Z",
     "iopub.status.busy": "2020-11-26T08:07:41.054173Z",
     "iopub.status.idle": "2020-11-26T08:07:41.617573Z",
     "shell.execute_reply": "2020-11-26T08:07:41.616537Z"
    },
    "papermill": {
     "duration": 0.65294,
     "end_time": "2020-11-26T08:07:41.617748",
     "exception": false,
     "start_time": "2020-11-26T08:07:40.964808",
     "status": "completed"
    },
    "tags": []
   },
   "outputs": [
    {
     "data": {
      "text/plain": [
       "<matplotlib.axes._subplots.AxesSubplot at 0x7fb890882dd0>"
      ]
     },
     "execution_count": 9,
     "metadata": {},
     "output_type": "execute_result"
    },
    {
     "data": {
      "image/png": "[encoded data removed]",
      "text/plain": [
       "<Figure size 1008x432 with 1 Axes>"
      ]
     },
     "metadata": {},
     "output_type": "display_data"
    }
   ],
   "source": [
    "sns.set()\n",
    "plt.figure(figsize=(14,6))\n",
    "a = plt.axvline(df[df['Survived']==0]['Fare'].median(),color='r')\n",
    "sns.distplot(df[df['Survived']==0]['Fare'],bins=15,color='r',kde=False)\n",
    "b = plt.axvline(df[df['Survived']==1]['Fare'].median(),color='b')\n",
    "plt.legend([a,b],['Non-Survivor Median','Median'])\n",
    "sns.distplot(df[df['Survived']==1]['Fare'],bins=15,color='b',kde=False)"
   ]
  },
  {
   "cell_type": "code",
   "execution_count": 10,
   "metadata": {
    "execution": {
     "iopub.execute_input": "2020-11-26T08:07:41.816838Z",
     "iopub.status.busy": "2020-11-26T08:07:41.814382Z",
     "iopub.status.idle": "2020-11-26T08:07:42.318223Z",
     "shell.execute_reply": "2020-11-26T08:07:42.317263Z"
    },
    "papermill": {
     "duration": 0.60137,
     "end_time": "2020-11-26T08:07:42.318375",
     "exception": false,
     "start_time": "2020-11-26T08:07:41.717005",
     "status": "completed"
    },
    "tags": []
   },
   "outputs": [
    {
     "data": {
      "text/plain": [
       "<matplotlib.axes._subplots.AxesSubplot at 0x7fb8908befd0>"
      ]
     },
     "execution_count": 10,
     "metadata": {},
     "output_type": "execute_result"
    },
    {
     "data": {
      "image/png": "[encoded data removed]",
      "text/plain": [
       "<Figure size 1008x432 with 1 Axes>"
      ]
     },
     "metadata": {},
     "output_type": "display_data"
    }
   ],
   "source": [
    "plt.figure(figsize=(14,6))\n",
    "a = plt.axvline(df[df['Survived']==0]['Age'].median(),color='r')\n",
    "sns.distplot(df[df['Survived']==0]['Age'],bins=10,color='r',kde=False)\n",
    "b = plt.axvline(df[df['Survived']==1]['Age'].median(),color='b')\n",
    "plt.legend([a,b],['Non-Survivor Median','Median'])\n",
    "sns.distplot(df[df['Survived']==1]['Age'],bins=10,color='b',kde=False)"
   ]
  },
  {
   "cell_type": "code",
   "execution_count": 11,
   "metadata": {
    "execution": {
     "iopub.execute_input": "2020-11-26T08:07:42.499850Z",
     "iopub.status.busy": "2020-11-26T08:07:42.498604Z",
     "iopub.status.idle": "2020-11-26T08:07:43.095465Z",
     "shell.execute_reply": "2020-11-26T08:07:43.094804Z"
    },
    "papermill": {
     "duration": 0.69446,
     "end_time": "2020-11-26T08:07:43.095623",
     "exception": false,
     "start_time": "2020-11-26T08:07:42.401163",
     "status": "completed"
    },
    "tags": []
   },
   "outputs": [
    {
     "data": {
      "text/plain": [
       "<matplotlib.axes._subplots.AxesSubplot at 0x7fb88a71b990>"
      ]
     },
     "execution_count": 11,
     "metadata": {},
     "output_type": "execute_result"
    },
    {
     "data": {
      "image/png": "[encoded data removed]",
      "text/plain": [
       "<Figure size 1008x432 with 1 Axes>"
      ]
     },
     "metadata": {},
     "output_type": "display_data"
    }
   ],
   "source": [
    "plt.figure(figsize=(14,6))\n",
    "a = plt.axvline(df[df['Survived']==0]['SibSp'].median(),color='r')\n",
    "sns.distplot(df[df['Survived']==0]['SibSp'],bins=10,color='r',kde=False)\n",
    "b = plt.axvline(df[df['Survived']==1]['SibSp'].median(),color='b')\n",
    "plt.legend([a,b],['Non-Survivor Median','Median'])\n",
    "sns.distplot(df[df['Survived']==1]['SibSp'],bins=10,color='b',kde=False)"
   ]
  },
  {
   "cell_type": "code",
   "execution_count": 12,
   "metadata": {
    "execution": {
     "iopub.execute_input": "2020-11-26T08:07:43.278055Z",
     "iopub.status.busy": "2020-11-26T08:07:43.276751Z",
     "iopub.status.idle": "2020-11-26T08:07:43.767030Z",
     "shell.execute_reply": "2020-11-26T08:07:43.765679Z"
    },
    "papermill": {
     "duration": 0.584837,
     "end_time": "2020-11-26T08:07:43.767276",
     "exception": false,
     "start_time": "2020-11-26T08:07:43.182439",
     "status": "completed"
    },
    "tags": []
   },
   "outputs": [
    {
     "data": {
      "text/plain": [
       "<matplotlib.axes._subplots.AxesSubplot at 0x7fb88a6f6410>"
      ]
     },
     "execution_count": 12,
     "metadata": {},
     "output_type": "execute_result"
    },
    {
     "data": {
      "image/png": "[encoded data removed]",
      "text/plain": [
       "<Figure size 1008x432 with 1 Axes>"
      ]
     },
     "metadata": {},
     "output_type": "display_data"
    }
   ],
   "source": [
    "plt.figure(figsize=(14,6))\n",
    "a = plt.axvline(df[df['Survived']==0]['Parch'].median(),color='r')\n",
    "sns.distplot(df[df['Survived']==0]['Parch'],bins=10,color='r',kde=False)\n",
    "b = plt.axvline(df[df['Survived']==1]['Parch'].median(),color='b')\n",
    "plt.legend([a,b],['Non-Survivor Median','Median'])\n",
    "sns.distplot(df[df['Survived']==1]['Parch'],bins=10,color='b',kde=False)"
   ]
  },
  {
   "cell_type": "code",
   "execution_count": 13,
   "metadata": {
    "execution": {
     "iopub.execute_input": "2020-11-26T08:07:43.955852Z",
     "iopub.status.busy": "2020-11-26T08:07:43.948386Z",
     "iopub.status.idle": "2020-11-26T08:07:44.210020Z",
     "shell.execute_reply": "2020-11-26T08:07:44.209097Z"
    },
    "papermill": {
     "duration": 0.360002,
     "end_time": "2020-11-26T08:07:44.210196",
     "exception": false,
     "start_time": "2020-11-26T08:07:43.850194",
     "status": "completed"
    },
    "tags": []
   },
   "outputs": [
    {
     "data": {
      "text/plain": [
       "<matplotlib.axes._subplots.AxesSubplot at 0x7fb88a543210>"
      ]
     },
     "execution_count": 13,
     "metadata": {},
     "output_type": "execute_result"
    },
    {
     "data": {
      "image/png": "[encoded data removed]",
      "text/plain": [
       "<Figure size 1008x432 with 1 Axes>"
      ]
     },
     "metadata": {},
     "output_type": "display_data"
    }
   ],
   "source": [
    "plt.figure(figsize=(14,6))\n",
    "sns.countplot(x=df['Pclass'],hue=df['Survived'])"
   ]
  },
  {
   "cell_type": "code",
   "execution_count": 14,
   "metadata": {
    "execution": {
     "iopub.execute_input": "2020-11-26T08:07:44.393117Z",
     "iopub.status.busy": "2020-11-26T08:07:44.391277Z",
     "iopub.status.idle": "2020-11-26T08:07:44.601946Z",
     "shell.execute_reply": "2020-11-26T08:07:44.601047Z"
    },
    "papermill": {
     "duration": 0.303969,
     "end_time": "2020-11-26T08:07:44.602097",
     "exception": false,
     "start_time": "2020-11-26T08:07:44.298128",
     "status": "completed"
    },
    "tags": []
   },
   "outputs": [
    {
     "data": {
      "text/plain": [
       "<matplotlib.axes._subplots.AxesSubplot at 0x7fb88a4be8d0>"
      ]
     },
     "execution_count": 14,
     "metadata": {},
     "output_type": "execute_result"
    },
    {
     "data": {
      "image/png": "[encoded data removed]",
      "text/plain": [
       "<Figure size 1008x432 with 1 Axes>"
      ]
     },
     "metadata": {},
     "output_type": "display_data"
    }
   ],
   "source": [
    "plt.figure(figsize=(14,6))\n",
    "sns.countplot(x=df['Sex'],hue=df['Survived'])"
   ]
  },
  {
   "cell_type": "code",
   "execution_count": 15,
   "metadata": {
    "execution": {
     "iopub.execute_input": "2020-11-26T08:07:44.797312Z",
     "iopub.status.busy": "2020-11-26T08:07:44.796148Z",
     "iopub.status.idle": "2020-11-26T08:07:45.041765Z",
     "shell.execute_reply": "2020-11-26T08:07:45.040933Z"
    },
    "papermill": {
     "duration": 0.344889,
     "end_time": "2020-11-26T08:07:45.041948",
     "exception": false,
     "start_time": "2020-11-26T08:07:44.697059",
     "status": "completed"
    },
    "tags": []
   },
   "outputs": [
    {
     "data": {
      "text/plain": [
       "<matplotlib.axes._subplots.AxesSubplot at 0x7fb88a492490>"
      ]
     },
     "execution_count": 15,
     "metadata": {},
     "output_type": "execute_result"
    },
    {
     "data": {
      "image/png": "[encoded data removed]",
      "text/plain": [
       "<Figure size 1008x432 with 1 Axes>"
      ]
     },
     "metadata": {},
     "output_type": "display_data"
    }
   ],
   "source": [
    "plt.figure(figsize=(14,6))\n",
    "sns.countplot(x=df['Embarked'],hue=df['Survived'])"
   ]
  },
  {
   "cell_type": "markdown",
   "metadata": {
    "papermill": {
     "duration": 0.09123,
     "end_time": "2020-11-26T08:07:45.219951",
     "exception": false,
     "start_time": "2020-11-26T08:07:45.128721",
     "status": "completed"
    },
    "tags": []
   },
   "source": [
    "We can see that:\n",
    "\n",
    "The median ticket price for survivors is higher than fore non-survivors.\n",
    "\n",
    "The median age is the same for both groups. In fact it looks like age plays a role only for the youngest of passengers (0-10 years old).\n",
    "\n",
    "The number of siblings and spouses or parents and children, also don't seem to have a big impact on the chances of survival.\n",
    "\n",
    "On the other hand, Pclass an especially Sex look like they are quite important when it comes to survival.\n",
    "\n",
    "Finally it looks like the port where the passenger embarked form doesn't have a great impact on survival.\n",
    "\n",
    "Next up, we'll see if we can extract some more usefull information with feature engineering and also get the data ready for our models to handle."
   ]
  },
  {
   "cell_type": "markdown",
   "metadata": {
    "papermill": {
     "duration": 0.082836,
     "end_time": "2020-11-26T08:07:45.389857",
     "exception": false,
     "start_time": "2020-11-26T08:07:45.307021",
     "status": "completed"
    },
    "tags": []
   },
   "source": [
    "## Feature engineering & preprocessing"
   ]
  },
  {
   "cell_type": "markdown",
   "metadata": {
    "papermill": {
     "duration": 0.097517,
     "end_time": "2020-11-26T08:07:45.577706",
     "exception": false,
     "start_time": "2020-11-26T08:07:45.480189",
     "status": "completed"
    },
    "tags": []
   },
   "source": [
    "Let's take a look at the categorical variables:"
   ]
  },
  {
   "cell_type": "code",
   "execution_count": 16,
   "metadata": {
    "execution": {
     "iopub.execute_input": "2020-11-26T08:07:45.765593Z",
     "iopub.status.busy": "2020-11-26T08:07:45.764442Z",
     "iopub.status.idle": "2020-11-26T08:07:45.768415Z",
     "shell.execute_reply": "2020-11-26T08:07:45.768985Z"
    },
    "papermill": {
     "duration": 0.102116,
     "end_time": "2020-11-26T08:07:45.769150",
     "exception": false,
     "start_time": "2020-11-26T08:07:45.667034",
     "status": "completed"
    },
    "tags": []
   },
   "outputs": [
    {
     "data": {
      "text/html": [
       "<div>\n",
       "<style scoped>\n",
       "    .dataframe tbody tr th:only-of-type {\n",
       "        vertical-align: middle;\n",
       "    }\n",
       "\n",
       "    .dataframe tbody tr th {\n",
       "        vertical-align: top;\n",
       "    }\n",
       "\n",
       "    .dataframe thead th {\n",
       "        text-align: right;\n",
       "    }\n",
       "</style>\n",
       "<table border=\"1\" class=\"dataframe\">\n",
       "  <thead>\n",
       "    <tr style=\"text-align: right;\">\n",
       "      <th></th>\n",
       "      <th>Name</th>\n",
       "      <th>Sex</th>\n",
       "      <th>Ticket</th>\n",
       "      <th>Cabin</th>\n",
       "      <th>Embarked</th>\n",
       "    </tr>\n",
       "  </thead>\n",
       "  <tbody>\n",
       "    <tr>\n",
       "      <th>0</th>\n",
       "      <td>Braund, Mr. Owen Harris</td>\n",
       "      <td>male</td>\n",
       "      <td>A/5 21171</td>\n",
       "      <td>NaN</td>\n",
       "      <td>S</td>\n",
       "    </tr>\n",
       "    <tr>\n",
       "      <th>1</th>\n",
       "      <td>Cumings, Mrs. John Bradley (Florence Briggs Th...</td>\n",
       "      <td>female</td>\n",
       "      <td>PC 17599</td>\n",
       "      <td>C85</td>\n",
       "      <td>C</td>\n",
       "    </tr>\n",
       "    <tr>\n",
       "      <th>2</th>\n",
       "      <td>Heikkinen, Miss. Laina</td>\n",
       "      <td>female</td>\n",
       "      <td>STON/O2. 3101282</td>\n",
       "      <td>NaN</td>\n",
       "      <td>S</td>\n",
       "    </tr>\n",
       "    <tr>\n",
       "      <th>3</th>\n",
       "      <td>Futrelle, Mrs. Jacques Heath (Lily May Peel)</td>\n",
       "      <td>female</td>\n",
       "      <td>113803</td>\n",
       "      <td>C123</td>\n",
       "      <td>S</td>\n",
       "    </tr>\n",
       "    <tr>\n",
       "      <th>4</th>\n",
       "      <td>Allen, Mr. William Henry</td>\n",
       "      <td>male</td>\n",
       "      <td>373450</td>\n",
       "      <td>NaN</td>\n",
       "      <td>S</td>\n",
       "    </tr>\n",
       "  </tbody>\n",
       "</table>\n",
       "</div>"
      ],
      "text/plain": [
       "                                                Name     Sex  \\\n",
       "0                            Braund, Mr. Owen Harris    male   \n",
       "1  Cumings, Mrs. John Bradley (Florence Briggs Th...  female   \n",
       "2                             Heikkinen, Miss. Laina  female   \n",
       "3       Futrelle, Mrs. Jacques Heath (Lily May Peel)  female   \n",
       "4                           Allen, Mr. William Henry    male   \n",
       "\n",
       "             Ticket Cabin Embarked  \n",
       "0         A/5 21171   NaN        S  \n",
       "1          PC 17599   C85        C  \n",
       "2  STON/O2. 3101282   NaN        S  \n",
       "3            113803  C123        S  \n",
       "4            373450   NaN        S  "
      ]
     },
     "execution_count": 16,
     "metadata": {},
     "output_type": "execute_result"
    }
   ],
   "source": [
    "df_cat.head()"
   ]
  },
  {
   "cell_type": "markdown",
   "metadata": {
    "papermill": {
     "duration": 0.091902,
     "end_time": "2020-11-26T08:07:45.944137",
     "exception": false,
     "start_time": "2020-11-26T08:07:45.852235",
     "status": "completed"
    },
    "tags": []
   },
   "source": [
    "We will focus on the Name and Cabin variables for the moment. \n",
    "\n",
    "The Name column contains the first and last name of the passenger, as well as the honorific  they use, such as Mr or Mrs.This can potentially be useful information so we we write a simple function to extract it.\n",
    "\n",
    "The Cabin column contains information about the cabin where the passenger stayed. It's a letter followed by a number."
   ]
  },
  {
   "cell_type": "code",
   "execution_count": 17,
   "metadata": {
    "execution": {
     "iopub.execute_input": "2020-11-26T08:07:46.133820Z",
     "iopub.status.busy": "2020-11-26T08:07:46.132697Z",
     "iopub.status.idle": "2020-11-26T08:07:46.139592Z",
     "shell.execute_reply": "2020-11-26T08:07:46.138299Z"
    },
    "papermill": {
     "duration": 0.108926,
     "end_time": "2020-11-26T08:07:46.139760",
     "exception": false,
     "start_time": "2020-11-26T08:07:46.030834",
     "status": "completed"
    },
    "tags": []
   },
   "outputs": [
    {
     "data": {
      "text/plain": [
       "G6             4\n",
       "B96 B98        4\n",
       "C23 C25 C27    4\n",
       "F33            3\n",
       "E101           3\n",
       "              ..\n",
       "E17            1\n",
       "D50            1\n",
       "A24            1\n",
       "C32            1\n",
       "C90            1\n",
       "Name: Cabin, Length: 147, dtype: int64"
      ]
     },
     "execution_count": 17,
     "metadata": {},
     "output_type": "execute_result"
    }
   ],
   "source": [
    "df_cat['Cabin'].value_counts()"
   ]
  },
  {
   "cell_type": "markdown",
   "metadata": {
    "papermill": {
     "duration": 0.093496,
     "end_time": "2020-11-26T08:07:46.329866",
     "exception": false,
     "start_time": "2020-11-26T08:07:46.236370",
     "status": "completed"
    },
    "tags": []
   },
   "source": [
    "Apparently a passenger can have multiple cabins under their name, possibly for people who traveled together. We will have to adress this with our code. We will also extract just the letter from the cabin which [indicates the deck where the passenger was situated](https://www.encyclopedia-titanica.org/deck-plan-key.html)."
   ]
  },
  {
   "cell_type": "code",
   "execution_count": 18,
   "metadata": {
    "execution": {
     "iopub.execute_input": "2020-11-26T08:07:46.541460Z",
     "iopub.status.busy": "2020-11-26T08:07:46.540363Z",
     "iopub.status.idle": "2020-11-26T08:07:46.544427Z",
     "shell.execute_reply": "2020-11-26T08:07:46.546194Z"
    },
    "papermill": {
     "duration": 0.123735,
     "end_time": "2020-11-26T08:07:46.546496",
     "exception": false,
     "start_time": "2020-11-26T08:07:46.422761",
     "status": "completed"
    },
    "tags": []
   },
   "outputs": [
    {
     "name": "stderr",
     "output_type": "stream",
     "text": [
      "/opt/conda/lib/python3.7/site-packages/ipykernel_launcher.py:13: SettingWithCopyWarning: \n",
      "A value is trying to be set on a copy of a slice from a DataFrame.\n",
      "Try using .loc[row_indexer,col_indexer] = value instead\n",
      "\n",
      "See the caveats in the documentation: https://pandas.pydata.org/pandas-docs/stable/user_guide/indexing.html#returning-a-view-versus-a-copy\n",
      "  del sys.path[0]\n",
      "/opt/conda/lib/python3.7/site-packages/ipykernel_launcher.py:14: SettingWithCopyWarning: \n",
      "A value is trying to be set on a copy of a slice from a DataFrame.\n",
      "Try using .loc[row_indexer,col_indexer] = value instead\n",
      "\n",
      "See the caveats in the documentation: https://pandas.pydata.org/pandas-docs/stable/user_guide/indexing.html#returning-a-view-versus-a-copy\n",
      "  \n"
     ]
    }
   ],
   "source": [
    "import re\n",
    "\n",
    "def splitter(cols):\n",
    "    return re.split('\\, |\\. ',cols)[1]\n",
    "\n",
    "def remove_digits(col):\n",
    "    for char in col:\n",
    "        if not char.isdigit():\n",
    "            return col[0]\n",
    "        else:\n",
    "            return char\n",
    "        \n",
    "df_cat['title']= df_cat['Name'].apply(splitter)\n",
    "df_cat['deck'] = df_cat['Cabin'].apply(lambda x: str(x).split(' ')[0]).apply(remove_digits)"
   ]
  },
  {
   "cell_type": "code",
   "execution_count": 19,
   "metadata": {
    "execution": {
     "iopub.execute_input": "2020-11-26T08:07:46.752524Z",
     "iopub.status.busy": "2020-11-26T08:07:46.751108Z",
     "iopub.status.idle": "2020-11-26T08:07:46.756759Z",
     "shell.execute_reply": "2020-11-26T08:07:46.756046Z"
    },
    "papermill": {
     "duration": 0.117227,
     "end_time": "2020-11-26T08:07:46.756897",
     "exception": false,
     "start_time": "2020-11-26T08:07:46.639670",
     "status": "completed"
    },
    "tags": []
   },
   "outputs": [
    {
     "data": {
      "text/html": [
       "<div>\n",
       "<style scoped>\n",
       "    .dataframe tbody tr th:only-of-type {\n",
       "        vertical-align: middle;\n",
       "    }\n",
       "\n",
       "    .dataframe tbody tr th {\n",
       "        vertical-align: top;\n",
       "    }\n",
       "\n",
       "    .dataframe thead th {\n",
       "        text-align: right;\n",
       "    }\n",
       "</style>\n",
       "<table border=\"1\" class=\"dataframe\">\n",
       "  <thead>\n",
       "    <tr style=\"text-align: right;\">\n",
       "      <th></th>\n",
       "      <th>Name</th>\n",
       "      <th>Sex</th>\n",
       "      <th>Ticket</th>\n",
       "      <th>Cabin</th>\n",
       "      <th>Embarked</th>\n",
       "      <th>title</th>\n",
       "      <th>deck</th>\n",
       "    </tr>\n",
       "  </thead>\n",
       "  <tbody>\n",
       "    <tr>\n",
       "      <th>0</th>\n",
       "      <td>Braund, Mr. Owen Harris</td>\n",
       "      <td>male</td>\n",
       "      <td>A/5 21171</td>\n",
       "      <td>NaN</td>\n",
       "      <td>S</td>\n",
       "      <td>Mr</td>\n",
       "      <td>n</td>\n",
       "    </tr>\n",
       "    <tr>\n",
       "      <th>1</th>\n",
       "      <td>Cumings, Mrs. John Bradley (Florence Briggs Th...</td>\n",
       "      <td>female</td>\n",
       "      <td>PC 17599</td>\n",
       "      <td>C85</td>\n",
       "      <td>C</td>\n",
       "      <td>Mrs</td>\n",
       "      <td>C</td>\n",
       "    </tr>\n",
       "    <tr>\n",
       "      <th>2</th>\n",
       "      <td>Heikkinen, Miss. Laina</td>\n",
       "      <td>female</td>\n",
       "      <td>STON/O2. 3101282</td>\n",
       "      <td>NaN</td>\n",
       "      <td>S</td>\n",
       "      <td>Miss</td>\n",
       "      <td>n</td>\n",
       "    </tr>\n",
       "    <tr>\n",
       "      <th>3</th>\n",
       "      <td>Futrelle, Mrs. Jacques Heath (Lily May Peel)</td>\n",
       "      <td>female</td>\n",
       "      <td>113803</td>\n",
       "      <td>C123</td>\n",
       "      <td>S</td>\n",
       "      <td>Mrs</td>\n",
       "      <td>C</td>\n",
       "    </tr>\n",
       "    <tr>\n",
       "      <th>4</th>\n",
       "      <td>Allen, Mr. William Henry</td>\n",
       "      <td>male</td>\n",
       "      <td>373450</td>\n",
       "      <td>NaN</td>\n",
       "      <td>S</td>\n",
       "      <td>Mr</td>\n",
       "      <td>n</td>\n",
       "    </tr>\n",
       "  </tbody>\n",
       "</table>\n",
       "</div>"
      ],
      "text/plain": [
       "                                                Name     Sex  \\\n",
       "0                            Braund, Mr. Owen Harris    male   \n",
       "1  Cumings, Mrs. John Bradley (Florence Briggs Th...  female   \n",
       "2                             Heikkinen, Miss. Laina  female   \n",
       "3       Futrelle, Mrs. Jacques Heath (Lily May Peel)  female   \n",
       "4                           Allen, Mr. William Henry    male   \n",
       "\n",
       "             Ticket Cabin Embarked title deck  \n",
       "0         A/5 21171   NaN        S    Mr    n  \n",
       "1          PC 17599   C85        C   Mrs    C  \n",
       "2  STON/O2. 3101282   NaN        S  Miss    n  \n",
       "3            113803  C123        S   Mrs    C  \n",
       "4            373450   NaN        S    Mr    n  "
      ]
     },
     "execution_count": 19,
     "metadata": {},
     "output_type": "execute_result"
    }
   ],
   "source": [
    "df_cat.head()"
   ]
  },
  {
   "cell_type": "code",
   "execution_count": 20,
   "metadata": {
    "execution": {
     "iopub.execute_input": "2020-11-26T08:07:46.946784Z",
     "iopub.status.busy": "2020-11-26T08:07:46.945589Z",
     "iopub.status.idle": "2020-11-26T08:07:46.952595Z",
     "shell.execute_reply": "2020-11-26T08:07:46.953162Z"
    },
    "papermill": {
     "duration": 0.106356,
     "end_time": "2020-11-26T08:07:46.953328",
     "exception": false,
     "start_time": "2020-11-26T08:07:46.846972",
     "status": "completed"
    },
    "tags": []
   },
   "outputs": [
    {
     "name": "stdout",
     "output_type": "stream",
     "text": [
      "Mr              517\n",
      "Miss            182\n",
      "Mrs             125\n",
      "Master           40\n",
      "Dr                7\n",
      "Rev               6\n",
      "Major             2\n",
      "Mlle              2\n",
      "Col               2\n",
      "Lady              1\n",
      "the Countess      1\n",
      "Don               1\n",
      "Capt              1\n",
      "Jonkheer          1\n",
      "Sir               1\n",
      "Ms                1\n",
      "Mme               1\n",
      "Name: title, dtype: int64 \n",
      " n    687\n",
      "C     59\n",
      "B     47\n",
      "D     33\n",
      "E     32\n",
      "A     15\n",
      "F     13\n",
      "G      4\n",
      "T      1\n",
      "Name: deck, dtype: int64\n"
     ]
    }
   ],
   "source": [
    "print(df_cat['title'].value_counts(),'\\n',df_cat['deck'].value_counts())"
   ]
  },
  {
   "cell_type": "markdown",
   "metadata": {
    "papermill": {
     "duration": 0.094073,
     "end_time": "2020-11-26T08:07:47.193960",
     "exception": false,
     "start_time": "2020-11-26T08:07:47.099887",
     "status": "completed"
    },
    "tags": []
   },
   "source": [
    "The 'n' value in the deck column is by far the most common because of the many null values. We will treat this value as seperate category as the missingness may contain information about the survival of the passenger.\n",
    "\n",
    "As far as the title goes the top four values are quite common honorifics, but there is also a number of unique ones that we will group into a separate value:\n"
   ]
  },
  {
   "cell_type": "code",
   "execution_count": 21,
   "metadata": {
    "execution": {
     "iopub.execute_input": "2020-11-26T08:07:47.384922Z",
     "iopub.status.busy": "2020-11-26T08:07:47.383895Z",
     "iopub.status.idle": "2020-11-26T08:07:47.390026Z",
     "shell.execute_reply": "2020-11-26T08:07:47.389141Z"
    },
    "papermill": {
     "duration": 0.105285,
     "end_time": "2020-11-26T08:07:47.390200",
     "exception": false,
     "start_time": "2020-11-26T08:07:47.284915",
     "status": "completed"
    },
    "tags": []
   },
   "outputs": [
    {
     "name": "stdout",
     "output_type": "stream",
     "text": [
      "Mr        517\n",
      "Miss      182\n",
      "Mrs       125\n",
      "Master     40\n",
      "Other      27\n",
      "Name: title, dtype: int64\n"
     ]
    },
    {
     "name": "stderr",
     "output_type": "stream",
     "text": [
      "/opt/conda/lib/python3.7/site-packages/ipykernel_launcher.py:1: SettingWithCopyWarning: \n",
      "A value is trying to be set on a copy of a slice from a DataFrame.\n",
      "Try using .loc[row_indexer,col_indexer] = value instead\n",
      "\n",
      "See the caveats in the documentation: https://pandas.pydata.org/pandas-docs/stable/user_guide/indexing.html#returning-a-view-versus-a-copy\n",
      "  \"\"\"Entry point for launching an IPython kernel.\n"
     ]
    }
   ],
   "source": [
    "df_cat['title'] = df_cat['title'].apply(lambda x: 'Other' if x not in ['Mr','Master','Miss','Mrs'] else x)\n",
    "\n",
    "print(df_cat['title'].value_counts())"
   ]
  },
  {
   "cell_type": "markdown",
   "metadata": {
    "papermill": {
     "duration": 0.090637,
     "end_time": "2020-11-26T08:07:47.572742",
     "exception": false,
     "start_time": "2020-11-26T08:07:47.482105",
     "status": "completed"
    },
    "tags": []
   },
   "source": [
    "Now let's have a look at some plots for the new variables we've created:"
   ]
  },
  {
   "cell_type": "code",
   "execution_count": 22,
   "metadata": {
    "execution": {
     "iopub.execute_input": "2020-11-26T08:07:47.803611Z",
     "iopub.status.busy": "2020-11-26T08:07:47.777507Z",
     "iopub.status.idle": "2020-11-26T08:07:48.125431Z",
     "shell.execute_reply": "2020-11-26T08:07:48.124770Z"
    },
    "papermill": {
     "duration": 0.458843,
     "end_time": "2020-11-26T08:07:48.125588",
     "exception": false,
     "start_time": "2020-11-26T08:07:47.666745",
     "status": "completed"
    },
    "tags": []
   },
   "outputs": [
    {
     "data": {
      "text/plain": [
       "<matplotlib.axes._subplots.AxesSubplot at 0x7fb88a3e4e10>"
      ]
     },
     "execution_count": 22,
     "metadata": {},
     "output_type": "execute_result"
    },
    {
     "data": {
      "image/png": "[encoded data removed]",
      "text/plain": [
       "<Figure size 1008x432 with 1 Axes>"
      ]
     },
     "metadata": {},
     "output_type": "display_data"
    }
   ],
   "source": [
    "dd = pd.concat([df_cat['deck'],df_num['Survived']],axis=1)\n",
    "plt.figure(figsize=(14,6))\n",
    "sns.countplot(x=dd['deck'], hue=dd['Survived'])"
   ]
  },
  {
   "cell_type": "code",
   "execution_count": 23,
   "metadata": {
    "execution": {
     "iopub.execute_input": "2020-11-26T08:07:48.334843Z",
     "iopub.status.busy": "2020-11-26T08:07:48.333620Z",
     "iopub.status.idle": "2020-11-26T08:07:48.707174Z",
     "shell.execute_reply": "2020-11-26T08:07:48.706174Z"
    },
    "papermill": {
     "duration": 0.482875,
     "end_time": "2020-11-26T08:07:48.707344",
     "exception": false,
     "start_time": "2020-11-26T08:07:48.224469",
     "status": "completed"
    },
    "tags": []
   },
   "outputs": [
    {
     "data": {
      "text/plain": [
       "<matplotlib.axes._subplots.AxesSubplot at 0x7fb88a2e7850>"
      ]
     },
     "execution_count": 23,
     "metadata": {},
     "output_type": "execute_result"
    },
    {
     "data": {
      "image/png": "[encoded data removed]",
      "text/plain": [
       "<Figure size 1008x432 with 1 Axes>"
      ]
     },
     "metadata": {},
     "output_type": "display_data"
    }
   ],
   "source": [
    "ddd = pd.concat([dd,df_num['Pclass']],axis=1)\n",
    "plt.figure(figsize=(14,6))\n",
    "sns.countplot(x=ddd['deck'], hue=ddd['Pclass'])"
   ]
  },
  {
   "cell_type": "code",
   "execution_count": 24,
   "metadata": {
    "execution": {
     "iopub.execute_input": "2020-11-26T08:07:48.913445Z",
     "iopub.status.busy": "2020-11-26T08:07:48.911639Z",
     "iopub.status.idle": "2020-11-26T08:07:49.170870Z",
     "shell.execute_reply": "2020-11-26T08:07:49.169863Z"
    },
    "papermill": {
     "duration": 0.369031,
     "end_time": "2020-11-26T08:07:49.171181",
     "exception": false,
     "start_time": "2020-11-26T08:07:48.802150",
     "status": "completed"
    },
    "tags": []
   },
   "outputs": [
    {
     "data": {
      "text/plain": [
       "<matplotlib.axes._subplots.AxesSubplot at 0x7fb88a2270d0>"
      ]
     },
     "execution_count": 24,
     "metadata": {},
     "output_type": "execute_result"
    },
    {
     "data": {
      "image/png": "[encoded data removed]",
      "text/plain": [
       "<Figure size 1008x432 with 1 Axes>"
      ]
     },
     "metadata": {},
     "output_type": "display_data"
    }
   ],
   "source": [
    "dfd = pd.concat([df_cat['title'],df_num['Survived']],axis=1)\n",
    "plt.figure(figsize=(14,6))\n",
    "sns.countplot(x=dfd['title'], hue=dfd['Survived'])"
   ]
  },
  {
   "cell_type": "markdown",
   "metadata": {
    "papermill": {
     "duration": 0.098997,
     "end_time": "2020-11-26T08:07:49.371961",
     "exception": false,
     "start_time": "2020-11-26T08:07:49.272964",
     "status": "completed"
    },
    "tags": []
   },
   "source": [
    "The passengers with female honorifics are more likely to survive, something to be expected based on the survival rate that we observed earlier. The honorific 'Master' was given to male children, which also explains the higher survival rate, based on our earlier observations.\n",
    "\n",
    "As far as the deck is concerned, for most of the values the survival rate is over 50%. Moreover the first decks are mostly populated by 1st class passengers, while the last decks are mostly populated by 3rd class passengers. We're going to group the decks based on the Pclass distribution:"
   ]
  },
  {
   "cell_type": "code",
   "execution_count": 25,
   "metadata": {
    "execution": {
     "iopub.execute_input": "2020-11-26T08:07:49.577465Z",
     "iopub.status.busy": "2020-11-26T08:07:49.576524Z",
     "iopub.status.idle": "2020-11-26T08:07:49.582262Z",
     "shell.execute_reply": "2020-11-26T08:07:49.580914Z"
    },
    "papermill": {
     "duration": 0.115001,
     "end_time": "2020-11-26T08:07:49.582499",
     "exception": false,
     "start_time": "2020-11-26T08:07:49.467498",
     "status": "completed"
    },
    "tags": []
   },
   "outputs": [
    {
     "name": "stderr",
     "output_type": "stream",
     "text": [
      "/opt/conda/lib/python3.7/site-packages/ipykernel_launcher.py:1: SettingWithCopyWarning: \n",
      "A value is trying to be set on a copy of a slice from a DataFrame.\n",
      "Try using .loc[row_indexer,col_indexer] = value instead\n",
      "\n",
      "See the caveats in the documentation: https://pandas.pydata.org/pandas-docs/stable/user_guide/indexing.html#returning-a-view-versus-a-copy\n",
      "  \"\"\"Entry point for launching an IPython kernel.\n"
     ]
    }
   ],
   "source": [
    "df_cat['deck'] = df_cat['deck'].map({'A':'ABC','B':'ABC','C':'ABC','D':'DE','E':'DE','F':'FG','G':'FG','n':'U','T':'U'})"
   ]
  },
  {
   "cell_type": "code",
   "execution_count": 26,
   "metadata": {
    "execution": {
     "iopub.execute_input": "2020-11-26T08:07:49.798863Z",
     "iopub.status.busy": "2020-11-26T08:07:49.797819Z",
     "iopub.status.idle": "2020-11-26T08:07:50.036679Z",
     "shell.execute_reply": "2020-11-26T08:07:50.035741Z"
    },
    "papermill": {
     "duration": 0.347386,
     "end_time": "2020-11-26T08:07:50.036822",
     "exception": false,
     "start_time": "2020-11-26T08:07:49.689436",
     "status": "completed"
    },
    "tags": []
   },
   "outputs": [
    {
     "data": {
      "text/plain": [
       "<matplotlib.axes._subplots.AxesSubplot at 0x7fb88a34db10>"
      ]
     },
     "execution_count": 26,
     "metadata": {},
     "output_type": "execute_result"
    },
    {
     "data": {
      "image/png": "[encoded data removed]",
      "text/plain": [
       "<Figure size 1008x432 with 1 Axes>"
      ]
     },
     "metadata": {},
     "output_type": "display_data"
    }
   ],
   "source": [
    "dd = pd.concat([df_cat['deck'],df_num['Survived']],axis=1)\n",
    "plt.figure(figsize=(14,6))\n",
    "sns.countplot(x=dd['deck'], hue=dd['Survived'])"
   ]
  },
  {
   "cell_type": "markdown",
   "metadata": {
    "papermill": {
     "duration": 0.126739,
     "end_time": "2020-11-26T08:07:50.268505",
     "exception": false,
     "start_time": "2020-11-26T08:07:50.141766",
     "status": "completed"
    },
    "tags": []
   },
   "source": [
    "As far as the numeric columns are concerned, we can combine the SibSp and Parch columns in order to make a new feature which indicates whether the passenger is traveling alone or with company."
   ]
  },
  {
   "cell_type": "code",
   "execution_count": 27,
   "metadata": {
    "execution": {
     "iopub.execute_input": "2020-11-26T08:07:50.509347Z",
     "iopub.status.busy": "2020-11-26T08:07:50.508219Z",
     "iopub.status.idle": "2020-11-26T08:07:50.514621Z",
     "shell.execute_reply": "2020-11-26T08:07:50.512231Z"
    },
    "papermill": {
     "duration": 0.128301,
     "end_time": "2020-11-26T08:07:50.514784",
     "exception": false,
     "start_time": "2020-11-26T08:07:50.386483",
     "status": "completed"
    },
    "tags": []
   },
   "outputs": [
    {
     "name": "stderr",
     "output_type": "stream",
     "text": [
      "/opt/conda/lib/python3.7/site-packages/ipykernel_launcher.py:1: SettingWithCopyWarning: \n",
      "A value is trying to be set on a copy of a slice from a DataFrame.\n",
      "Try using .loc[row_indexer,col_indexer] = value instead\n",
      "\n",
      "See the caveats in the documentation: https://pandas.pydata.org/pandas-docs/stable/user_guide/indexing.html#returning-a-view-versus-a-copy\n",
      "  \"\"\"Entry point for launching an IPython kernel.\n"
     ]
    }
   ],
   "source": [
    "df_num['alone'] = (df['SibSp'] + df['Parch']).apply(lambda x: 1 if x==0 else 0)"
   ]
  },
  {
   "cell_type": "code",
   "execution_count": 28,
   "metadata": {
    "execution": {
     "iopub.execute_input": "2020-11-26T08:07:50.769811Z",
     "iopub.status.busy": "2020-11-26T08:07:50.768529Z",
     "iopub.status.idle": "2020-11-26T08:07:51.046607Z",
     "shell.execute_reply": "2020-11-26T08:07:51.045739Z"
    },
    "papermill": {
     "duration": 0.411032,
     "end_time": "2020-11-26T08:07:51.046764",
     "exception": false,
     "start_time": "2020-11-26T08:07:50.635732",
     "status": "completed"
    },
    "tags": []
   },
   "outputs": [
    {
     "data": {
      "text/plain": [
       "<matplotlib.axes._subplots.AxesSubplot at 0x7fb88a124b90>"
      ]
     },
     "execution_count": 28,
     "metadata": {},
     "output_type": "execute_result"
    },
    {
     "data": {
      "image/png": "[encoded data removed]",
      "text/plain": [
       "<Figure size 1008x432 with 1 Axes>"
      ]
     },
     "metadata": {},
     "output_type": "display_data"
    }
   ],
   "source": [
    "plt.figure(figsize=(14,6))\n",
    "sns.countplot(x=df_num['alone'], hue=df_num['Survived'])"
   ]
  },
  {
   "cell_type": "markdown",
   "metadata": {
    "papermill": {
     "duration": 0.109968,
     "end_time": "2020-11-26T08:07:51.266839",
     "exception": false,
     "start_time": "2020-11-26T08:07:51.156871",
     "status": "completed"
    },
    "tags": []
   },
   "source": [
    "It appears there is a slighty higher chance of survival for passengers who were traveling with company."
   ]
  },
  {
   "cell_type": "markdown",
   "metadata": {
    "papermill": {
     "duration": 0.103124,
     "end_time": "2020-11-26T08:07:51.481298",
     "exception": false,
     "start_time": "2020-11-26T08:07:51.378174",
     "status": "completed"
    },
    "tags": []
   },
   "source": [
    "Another transformation we can do is bin the Age and Fare data. We will first bin the Fare data since the Age data contains missing values. We will then impute the Age data and bin them too.\n",
    "\n",
    "There are a lot of options for the number of bins we can choose, here we will try a 10-bin and 15-bin split:"
   ]
  },
  {
   "cell_type": "code",
   "execution_count": 29,
   "metadata": {
    "execution": {
     "iopub.execute_input": "2020-11-26T08:07:51.697471Z",
     "iopub.status.busy": "2020-11-26T08:07:51.696335Z",
     "iopub.status.idle": "2020-11-26T08:07:51.708910Z",
     "shell.execute_reply": "2020-11-26T08:07:51.708056Z"
    },
    "papermill": {
     "duration": 0.124746,
     "end_time": "2020-11-26T08:07:51.709042",
     "exception": false,
     "start_time": "2020-11-26T08:07:51.584296",
     "status": "completed"
    },
    "tags": []
   },
   "outputs": [
    {
     "name": "stderr",
     "output_type": "stream",
     "text": [
      "/opt/conda/lib/python3.7/site-packages/ipykernel_launcher.py:1: SettingWithCopyWarning: \n",
      "A value is trying to be set on a copy of a slice from a DataFrame.\n",
      "Try using .loc[row_indexer,col_indexer] = value instead\n",
      "\n",
      "See the caveats in the documentation: https://pandas.pydata.org/pandas-docs/stable/user_guide/indexing.html#returning-a-view-versus-a-copy\n",
      "  \"\"\"Entry point for launching an IPython kernel.\n",
      "/opt/conda/lib/python3.7/site-packages/ipykernel_launcher.py:2: SettingWithCopyWarning: \n",
      "A value is trying to be set on a copy of a slice from a DataFrame.\n",
      "Try using .loc[row_indexer,col_indexer] = value instead\n",
      "\n",
      "See the caveats in the documentation: https://pandas.pydata.org/pandas-docs/stable/user_guide/indexing.html#returning-a-view-versus-a-copy\n",
      "  \n"
     ]
    }
   ],
   "source": [
    "df_num['fare_bins_10'] = pd.qcut(x=df_num['Fare'],q=10,labels=[1,2,3,4,5,6,7,8,9,10],duplicates='drop')\n",
    "df_num['fare_bins_15'] = pd.qcut(x=df_num['Fare'],q=15,labels=[1,2,3,4,5,6,7,8,9,10,11,12,13,14,15],duplicates='drop')"
   ]
  },
  {
   "cell_type": "code",
   "execution_count": 30,
   "metadata": {
    "execution": {
     "iopub.execute_input": "2020-11-26T08:07:51.928508Z",
     "iopub.status.busy": "2020-11-26T08:07:51.925826Z",
     "iopub.status.idle": "2020-11-26T08:07:52.266746Z",
     "shell.execute_reply": "2020-11-26T08:07:52.265975Z"
    },
    "papermill": {
     "duration": 0.453959,
     "end_time": "2020-11-26T08:07:52.266873",
     "exception": false,
     "start_time": "2020-11-26T08:07:51.812914",
     "status": "completed"
    },
    "tags": []
   },
   "outputs": [
    {
     "data": {
      "text/plain": [
       "<matplotlib.axes._subplots.AxesSubplot at 0x7fb88a2e7b90>"
      ]
     },
     "execution_count": 30,
     "metadata": {},
     "output_type": "execute_result"
    },
    {
     "data": {
      "image/png": "[encoded data removed]",
      "text/plain": [
       "<Figure size 1008x432 with 1 Axes>"
      ]
     },
     "metadata": {},
     "output_type": "display_data"
    }
   ],
   "source": [
    "plt.figure(figsize=(14,6))\n",
    "sns.countplot(x=df_num['fare_bins_10'], hue=df_num['Survived'])"
   ]
  },
  {
   "cell_type": "code",
   "execution_count": 31,
   "metadata": {
    "execution": {
     "iopub.execute_input": "2020-11-26T08:07:52.492108Z",
     "iopub.status.busy": "2020-11-26T08:07:52.490780Z",
     "iopub.status.idle": "2020-11-26T08:07:52.940276Z",
     "shell.execute_reply": "2020-11-26T08:07:52.939494Z"
    },
    "papermill": {
     "duration": 0.569078,
     "end_time": "2020-11-26T08:07:52.940406",
     "exception": false,
     "start_time": "2020-11-26T08:07:52.371328",
     "status": "completed"
    },
    "tags": []
   },
   "outputs": [
    {
     "data": {
      "text/plain": [
       "<matplotlib.axes._subplots.AxesSubplot at 0x7fb88a05b8d0>"
      ]
     },
     "execution_count": 31,
     "metadata": {},
     "output_type": "execute_result"
    },
    {
     "data": {
      "image/png": "[encoded data removed]",
      "text/plain": [
       "<Figure size 1008x432 with 1 Axes>"
      ]
     },
     "metadata": {},
     "output_type": "display_data"
    }
   ],
   "source": [
    "plt.figure(figsize=(14,6))\n",
    "sns.countplot(x=df_num['fare_bins_15'], hue=df_num['Survived'])"
   ]
  },
  {
   "cell_type": "markdown",
   "metadata": {
    "papermill": {
     "duration": 0.109305,
     "end_time": "2020-11-26T08:07:53.164752",
     "exception": false,
     "start_time": "2020-11-26T08:07:53.055447",
     "status": "completed"
    },
    "tags": []
   },
   "source": [
    "We'll pick the 10-bin split."
   ]
  },
  {
   "cell_type": "markdown",
   "metadata": {
    "papermill": {
     "duration": 0.104707,
     "end_time": "2020-11-26T08:07:53.372760",
     "exception": false,
     "start_time": "2020-11-26T08:07:53.268053",
     "status": "completed"
    },
    "tags": []
   },
   "source": [
    "At this point we can start preparing the data for modeling by filling any missing values and creating dummy variables "
   ]
  },
  {
   "cell_type": "markdown",
   "metadata": {
    "papermill": {
     "duration": 0.111559,
     "end_time": "2020-11-26T08:07:53.589470",
     "exception": false,
     "start_time": "2020-11-26T08:07:53.477911",
     "status": "completed"
    },
    "tags": []
   },
   "source": [
    "There are whole textbooks writeen on data imputation, however a simple approach is filling missing values by using an estimator of the total distribution. Here, we will fill the missing values using the median age of the passengers based on their title. Since we know that 'Master' corresponds to young male children, perhaps we'll get a more accurate imputation of data this way. Another option would be to impute the median based on Pclass, which is the most highly correlated feature with Age. "
   ]
  },
  {
   "cell_type": "markdown",
   "metadata": {
    "papermill": {
     "duration": 0.103381,
     "end_time": "2020-11-26T08:07:53.799834",
     "exception": false,
     "start_time": "2020-11-26T08:07:53.696453",
     "status": "completed"
    },
    "tags": []
   },
   "source": [
    "An important note here: When imputing data, the values used for imputation (in our case the medians) should be calculated on the train set. Here we haven't yet split the datasets into train and validation subsets. Since this is a small dataset, we will use all the examples for training and use cross-validation to gauge performance. Since the subsets used for cross-validation will likely contain imputed values calculated on the training set (which they are a part of) this will introduce bias to the data, but hopefully this is offset by the number of cross-validation folds (we'll use 10-fold cross-validation)."
   ]
  },
  {
   "cell_type": "markdown",
   "metadata": {
    "papermill": {
     "duration": 0.100985,
     "end_time": "2020-11-26T08:07:54.006785",
     "exception": false,
     "start_time": "2020-11-26T08:07:53.905800",
     "status": "completed"
    },
    "tags": []
   },
   "source": [
    "First, let's write a function to impute the data:"
   ]
  },
  {
   "cell_type": "code",
   "execution_count": 32,
   "metadata": {
    "execution": {
     "iopub.execute_input": "2020-11-26T08:07:54.236856Z",
     "iopub.status.busy": "2020-11-26T08:07:54.233249Z",
     "iopub.status.idle": "2020-11-26T08:07:54.241037Z",
     "shell.execute_reply": "2020-11-26T08:07:54.240357Z"
    },
    "papermill": {
     "duration": 0.12661,
     "end_time": "2020-11-26T08:07:54.241194",
     "exception": false,
     "start_time": "2020-11-26T08:07:54.114584",
     "status": "completed"
    },
    "tags": []
   },
   "outputs": [],
   "source": [
    "df_new = pd.concat([df_num,df_cat],axis=1)"
   ]
  },
  {
   "cell_type": "code",
   "execution_count": 33,
   "metadata": {
    "execution": {
     "iopub.execute_input": "2020-11-26T08:07:54.474663Z",
     "iopub.status.busy": "2020-11-26T08:07:54.473518Z",
     "iopub.status.idle": "2020-11-26T08:07:54.477795Z",
     "shell.execute_reply": "2020-11-26T08:07:54.477100Z"
    },
    "papermill": {
     "duration": 0.128524,
     "end_time": "2020-11-26T08:07:54.477932",
     "exception": false,
     "start_time": "2020-11-26T08:07:54.349408",
     "status": "completed"
    },
    "tags": []
   },
   "outputs": [],
   "source": [
    "def imp(cols):\n",
    "    age = cols[0]\n",
    "    title = cols[1]\n",
    "    \n",
    "    master = df_new[df_new['title']=='Master']['Age'].median()\n",
    "    mr = df_new[df_new['title']=='Mr']['Age'].median()\n",
    "    miss = df_new[df_new['title']=='Miss']['Age'].median()\n",
    "    mrs = df_new[df_new['title']=='Mrs']['Age'].median()\n",
    "    other = df_new[df_new['title']=='Other']['Age'].median()\n",
    "    \n",
    "    if pd.isnull(age):\n",
    "        if title == 'Master':\n",
    "            return master\n",
    "        elif title == 'Mr':\n",
    "            return mr\n",
    "        elif title == 'Mrs':\n",
    "            return mrs\n",
    "        elif title == 'Miss':\n",
    "            return miss\n",
    "        else:\n",
    "            return other\n",
    "    \n",
    "    else:\n",
    "        return age"
   ]
  },
  {
   "cell_type": "code",
   "execution_count": 34,
   "metadata": {
    "execution": {
     "iopub.execute_input": "2020-11-26T08:07:54.698409Z",
     "iopub.status.busy": "2020-11-26T08:07:54.697481Z",
     "iopub.status.idle": "2020-11-26T08:08:00.425159Z",
     "shell.execute_reply": "2020-11-26T08:08:00.425863Z"
    },
    "papermill": {
     "duration": 5.843656,
     "end_time": "2020-11-26T08:08:00.426040",
     "exception": false,
     "start_time": "2020-11-26T08:07:54.582384",
     "status": "completed"
    },
    "tags": []
   },
   "outputs": [],
   "source": [
    "df_new['age_imp'] = df_new[['Age','title']].apply(imp,axis=1)"
   ]
  },
  {
   "cell_type": "markdown",
   "metadata": {
    "papermill": {
     "duration": 0.11498,
     "end_time": "2020-11-26T08:08:00.648800",
     "exception": false,
     "start_time": "2020-11-26T08:08:00.533820",
     "status": "completed"
    },
    "tags": []
   },
   "source": [
    "Now we bin the age data using 10 bins:"
   ]
  },
  {
   "cell_type": "code",
   "execution_count": 35,
   "metadata": {
    "execution": {
     "iopub.execute_input": "2020-11-26T08:08:00.888312Z",
     "iopub.status.busy": "2020-11-26T08:08:00.885105Z",
     "iopub.status.idle": "2020-11-26T08:08:00.892018Z",
     "shell.execute_reply": "2020-11-26T08:08:00.891343Z"
    },
    "papermill": {
     "duration": 0.125349,
     "end_time": "2020-11-26T08:08:00.892151",
     "exception": false,
     "start_time": "2020-11-26T08:08:00.766802",
     "status": "completed"
    },
    "tags": []
   },
   "outputs": [],
   "source": [
    "df_new['age_bins_15'] = pd.qcut(x=df_new['age_imp'],\n",
    "                                 q=10,\n",
    "                                 labels=[1,2,3,4,5,6,7,8,9],\n",
    "                                 duplicates='drop')"
   ]
  },
  {
   "cell_type": "code",
   "execution_count": 36,
   "metadata": {
    "execution": {
     "iopub.execute_input": "2020-11-26T08:08:01.123218Z",
     "iopub.status.busy": "2020-11-26T08:08:01.122259Z",
     "iopub.status.idle": "2020-11-26T08:08:01.477259Z",
     "shell.execute_reply": "2020-11-26T08:08:01.477874Z"
    },
    "papermill": {
     "duration": 0.473604,
     "end_time": "2020-11-26T08:08:01.478065",
     "exception": false,
     "start_time": "2020-11-26T08:08:01.004461",
     "status": "completed"
    },
    "tags": []
   },
   "outputs": [
    {
     "data": {
      "text/plain": [
       "<matplotlib.axes._subplots.AxesSubplot at 0x7fb889f18ad0>"
      ]
     },
     "execution_count": 36,
     "metadata": {},
     "output_type": "execute_result"
    },
    {
     "data": {
      "image/png": "[encoded data removed]",
      "text/plain": [
       "<Figure size 1008x432 with 1 Axes>"
      ]
     },
     "metadata": {},
     "output_type": "display_data"
    }
   ],
   "source": [
    "plt.figure(figsize=(14,6))\n",
    "sns.countplot(x=df_new['age_bins_15'], hue=df_new['Survived'])"
   ]
  },
  {
   "cell_type": "code",
   "execution_count": 37,
   "metadata": {
    "execution": {
     "iopub.execute_input": "2020-11-26T08:08:01.729838Z",
     "iopub.status.busy": "2020-11-26T08:08:01.728173Z",
     "iopub.status.idle": "2020-11-26T08:08:01.759742Z",
     "shell.execute_reply": "2020-11-26T08:08:01.759007Z"
    },
    "papermill": {
     "duration": 0.166506,
     "end_time": "2020-11-26T08:08:01.759878",
     "exception": false,
     "start_time": "2020-11-26T08:08:01.593372",
     "status": "completed"
    },
    "tags": []
   },
   "outputs": [
    {
     "name": "stdout",
     "output_type": "stream",
     "text": [
      "<class 'pandas.core.frame.DataFrame'>\n",
      "RangeIndex: 891 entries, 0 to 890\n",
      "Data columns (total 19 columns):\n",
      " #   Column        Non-Null Count  Dtype   \n",
      "---  ------        --------------  -----   \n",
      " 0   PassengerId   891 non-null    int64   \n",
      " 1   Survived      891 non-null    int64   \n",
      " 2   Pclass        891 non-null    int64   \n",
      " 3   Age           714 non-null    float64 \n",
      " 4   SibSp         891 non-null    int64   \n",
      " 5   Parch         891 non-null    int64   \n",
      " 6   Fare          891 non-null    float64 \n",
      " 7   alone         891 non-null    int64   \n",
      " 8   fare_bins_10  891 non-null    category\n",
      " 9   fare_bins_15  891 non-null    category\n",
      " 10  Name          891 non-null    object  \n",
      " 11  Sex           891 non-null    object  \n",
      " 12  Ticket        891 non-null    object  \n",
      " 13  Cabin         204 non-null    object  \n",
      " 14  Embarked      889 non-null    object  \n",
      " 15  title         891 non-null    object  \n",
      " 16  deck          891 non-null    object  \n",
      " 17  age_imp       891 non-null    float64 \n",
      " 18  age_bins_15   891 non-null    category\n",
      "dtypes: category(3), float64(3), int64(6), object(7)\n",
      "memory usage: 115.6+ KB\n"
     ]
    }
   ],
   "source": [
    "df_new.info()"
   ]
  },
  {
   "cell_type": "markdown",
   "metadata": {
    "papermill": {
     "duration": 0.111074,
     "end_time": "2020-11-26T08:08:02.004789",
     "exception": false,
     "start_time": "2020-11-26T08:08:01.893715",
     "status": "completed"
    },
    "tags": []
   },
   "source": [
    "The Embarked column contains 2 null values so we will fill them with the most common value (S)."
   ]
  },
  {
   "cell_type": "code",
   "execution_count": 38,
   "metadata": {
    "execution": {
     "iopub.execute_input": "2020-11-26T08:08:02.254193Z",
     "iopub.status.busy": "2020-11-26T08:08:02.252983Z",
     "iopub.status.idle": "2020-11-26T08:08:02.259274Z",
     "shell.execute_reply": "2020-11-26T08:08:02.258626Z"
    },
    "papermill": {
     "duration": 0.142467,
     "end_time": "2020-11-26T08:08:02.259400",
     "exception": false,
     "start_time": "2020-11-26T08:08:02.116933",
     "status": "completed"
    },
    "tags": []
   },
   "outputs": [
    {
     "data": {
      "text/html": [
       "<div>\n",
       "<style scoped>\n",
       "    .dataframe tbody tr th:only-of-type {\n",
       "        vertical-align: middle;\n",
       "    }\n",
       "\n",
       "    .dataframe tbody tr th {\n",
       "        vertical-align: top;\n",
       "    }\n",
       "\n",
       "    .dataframe thead th {\n",
       "        text-align: right;\n",
       "    }\n",
       "</style>\n",
       "<table border=\"1\" class=\"dataframe\">\n",
       "  <thead>\n",
       "    <tr style=\"text-align: right;\">\n",
       "      <th></th>\n",
       "      <th>PassengerId</th>\n",
       "      <th>Survived</th>\n",
       "      <th>Pclass</th>\n",
       "      <th>Age</th>\n",
       "      <th>SibSp</th>\n",
       "      <th>Parch</th>\n",
       "      <th>Fare</th>\n",
       "      <th>alone</th>\n",
       "      <th>fare_bins_10</th>\n",
       "      <th>fare_bins_15</th>\n",
       "      <th>Name</th>\n",
       "      <th>Sex</th>\n",
       "      <th>Ticket</th>\n",
       "      <th>Cabin</th>\n",
       "      <th>Embarked</th>\n",
       "      <th>title</th>\n",
       "      <th>deck</th>\n",
       "      <th>age_imp</th>\n",
       "      <th>age_bins_15</th>\n",
       "    </tr>\n",
       "  </thead>\n",
       "  <tbody>\n",
       "    <tr>\n",
       "      <th>61</th>\n",
       "      <td>62</td>\n",
       "      <td>1</td>\n",
       "      <td>1</td>\n",
       "      <td>38.0</td>\n",
       "      <td>0</td>\n",
       "      <td>0</td>\n",
       "      <td>80.0</td>\n",
       "      <td>1</td>\n",
       "      <td>10</td>\n",
       "      <td>14</td>\n",
       "      <td>Icard, Miss. Amelie</td>\n",
       "      <td>female</td>\n",
       "      <td>113572</td>\n",
       "      <td>B28</td>\n",
       "      <td>NaN</td>\n",
       "      <td>Miss</td>\n",
       "      <td>ABC</td>\n",
       "      <td>38.0</td>\n",
       "      <td>7</td>\n",
       "    </tr>\n",
       "    <tr>\n",
       "      <th>829</th>\n",
       "      <td>830</td>\n",
       "      <td>1</td>\n",
       "      <td>1</td>\n",
       "      <td>62.0</td>\n",
       "      <td>0</td>\n",
       "      <td>0</td>\n",
       "      <td>80.0</td>\n",
       "      <td>1</td>\n",
       "      <td>10</td>\n",
       "      <td>14</td>\n",
       "      <td>Stone, Mrs. George Nelson (Martha Evelyn)</td>\n",
       "      <td>female</td>\n",
       "      <td>113572</td>\n",
       "      <td>B28</td>\n",
       "      <td>NaN</td>\n",
       "      <td>Mrs</td>\n",
       "      <td>ABC</td>\n",
       "      <td>62.0</td>\n",
       "      <td>9</td>\n",
       "    </tr>\n",
       "  </tbody>\n",
       "</table>\n",
       "</div>"
      ],
      "text/plain": [
       "     PassengerId  Survived  Pclass   Age  SibSp  Parch  Fare  alone  \\\n",
       "61            62         1       1  38.0      0      0  80.0      1   \n",
       "829          830         1       1  62.0      0      0  80.0      1   \n",
       "\n",
       "    fare_bins_10 fare_bins_15                                       Name  \\\n",
       "61            10           14                        Icard, Miss. Amelie   \n",
       "829           10           14  Stone, Mrs. George Nelson (Martha Evelyn)   \n",
       "\n",
       "        Sex  Ticket Cabin Embarked title deck  age_imp age_bins_15  \n",
       "61   female  113572   B28      NaN  Miss  ABC     38.0           7  \n",
       "829  female  113572   B28      NaN   Mrs  ABC     62.0           9  "
      ]
     },
     "execution_count": 38,
     "metadata": {},
     "output_type": "execute_result"
    }
   ],
   "source": [
    "df_new[df_new['Embarked'].isnull()]"
   ]
  },
  {
   "cell_type": "code",
   "execution_count": 39,
   "metadata": {
    "execution": {
     "iopub.execute_input": "2020-11-26T08:08:02.481423Z",
     "iopub.status.busy": "2020-11-26T08:08:02.480462Z",
     "iopub.status.idle": "2020-11-26T08:08:02.483985Z",
     "shell.execute_reply": "2020-11-26T08:08:02.483355Z"
    },
    "papermill": {
     "duration": 0.118132,
     "end_time": "2020-11-26T08:08:02.484119",
     "exception": false,
     "start_time": "2020-11-26T08:08:02.365987",
     "status": "completed"
    },
    "tags": []
   },
   "outputs": [],
   "source": [
    "df_new.loc[81,'Embarked'] = 'S'\n",
    "df_new.loc[829,'Embarked'] = 'S'"
   ]
  },
  {
   "cell_type": "markdown",
   "metadata": {
    "papermill": {
     "duration": 0.111703,
     "end_time": "2020-11-26T08:08:02.704540",
     "exception": false,
     "start_time": "2020-11-26T08:08:02.592837",
     "status": "completed"
    },
    "tags": []
   },
   "source": [
    "Finally, we'll create dummy variables for Sex, title, deck and Embarked and create a new dataframe containing our final set of features:"
   ]
  },
  {
   "cell_type": "code",
   "execution_count": 40,
   "metadata": {
    "execution": {
     "iopub.execute_input": "2020-11-26T08:08:02.944290Z",
     "iopub.status.busy": "2020-11-26T08:08:02.943387Z",
     "iopub.status.idle": "2020-11-26T08:08:02.951531Z",
     "shell.execute_reply": "2020-11-26T08:08:02.950838Z"
    },
    "papermill": {
     "duration": 0.132243,
     "end_time": "2020-11-26T08:08:02.951722",
     "exception": false,
     "start_time": "2020-11-26T08:08:02.819479",
     "status": "completed"
    },
    "tags": []
   },
   "outputs": [],
   "source": [
    "dummies = pd.get_dummies(df_new[['Embarked','Sex','title','deck']],drop_first=True)"
   ]
  },
  {
   "cell_type": "code",
   "execution_count": 41,
   "metadata": {
    "execution": {
     "iopub.execute_input": "2020-11-26T08:08:03.185310Z",
     "iopub.status.busy": "2020-11-26T08:08:03.183869Z",
     "iopub.status.idle": "2020-11-26T08:08:03.189249Z",
     "shell.execute_reply": "2020-11-26T08:08:03.189966Z"
    },
    "papermill": {
     "duration": 0.129185,
     "end_time": "2020-11-26T08:08:03.190167",
     "exception": false,
     "start_time": "2020-11-26T08:08:03.060982",
     "status": "completed"
    },
    "tags": []
   },
   "outputs": [],
   "source": [
    "df_final = pd.concat([df_new,dummies],axis=1).drop(\n",
    "    ['PassengerId','Age','SibSp','Parch','Fare','fare_bins_15','Name','Sex','Ticket','Cabin','Embarked','title','age_imp','deck'],axis=1)"
   ]
  },
  {
   "cell_type": "code",
   "execution_count": 42,
   "metadata": {
    "execution": {
     "iopub.execute_input": "2020-11-26T08:08:03.419932Z",
     "iopub.status.busy": "2020-11-26T08:08:03.418972Z",
     "iopub.status.idle": "2020-11-26T08:08:03.434909Z",
     "shell.execute_reply": "2020-11-26T08:08:03.434036Z"
    },
    "papermill": {
     "duration": 0.131367,
     "end_time": "2020-11-26T08:08:03.435082",
     "exception": false,
     "start_time": "2020-11-26T08:08:03.303715",
     "status": "completed"
    },
    "tags": []
   },
   "outputs": [
    {
     "name": "stdout",
     "output_type": "stream",
     "text": [
      "<class 'pandas.core.frame.DataFrame'>\n",
      "RangeIndex: 891 entries, 0 to 890\n",
      "Data columns (total 15 columns):\n",
      " #   Column        Non-Null Count  Dtype   \n",
      "---  ------        --------------  -----   \n",
      " 0   Survived      891 non-null    int64   \n",
      " 1   Pclass        891 non-null    int64   \n",
      " 2   alone         891 non-null    int64   \n",
      " 3   fare_bins_10  891 non-null    category\n",
      " 4   age_bins_15   891 non-null    category\n",
      " 5   Embarked_Q    891 non-null    uint8   \n",
      " 6   Embarked_S    891 non-null    uint8   \n",
      " 7   Sex_male      891 non-null    uint8   \n",
      " 8   title_Miss    891 non-null    uint8   \n",
      " 9   title_Mr      891 non-null    uint8   \n",
      " 10  title_Mrs     891 non-null    uint8   \n",
      " 11  title_Other   891 non-null    uint8   \n",
      " 12  deck_DE       891 non-null    uint8   \n",
      " 13  deck_FG       891 non-null    uint8   \n",
      " 14  deck_U        891 non-null    uint8   \n",
      "dtypes: category(2), int64(3), uint8(10)\n",
      "memory usage: 32.2 KB\n"
     ]
    }
   ],
   "source": [
    "df_final.info()"
   ]
  },
  {
   "cell_type": "markdown",
   "metadata": {
    "papermill": {
     "duration": 0.11506,
     "end_time": "2020-11-26T08:08:03.662379",
     "exception": false,
     "start_time": "2020-11-26T08:08:03.547319",
     "status": "completed"
    },
    "tags": []
   },
   "source": [
    "## Models"
   ]
  },
  {
   "cell_type": "markdown",
   "metadata": {
    "papermill": {
     "duration": 0.113337,
     "end_time": "2020-11-26T08:08:03.888612",
     "exception": false,
     "start_time": "2020-11-26T08:08:03.775275",
     "status": "completed"
    },
    "tags": []
   },
   "source": [
    "Now comes the time to train our classifiers. As mentioned before we'll use 10-fold cross-validation.\n",
    "\n",
    "We'll use 4 classifiers and aggregate their predictions with a voting classifier."
   ]
  },
  {
   "cell_type": "code",
   "execution_count": 43,
   "metadata": {
    "execution": {
     "iopub.execute_input": "2020-11-26T08:08:04.112545Z",
     "iopub.status.busy": "2020-11-26T08:08:04.111715Z",
     "iopub.status.idle": "2020-11-26T08:08:04.623451Z",
     "shell.execute_reply": "2020-11-26T08:08:04.622540Z"
    },
    "papermill": {
     "duration": 0.626003,
     "end_time": "2020-11-26T08:08:04.623641",
     "exception": false,
     "start_time": "2020-11-26T08:08:03.997638",
     "status": "completed"
    },
    "tags": []
   },
   "outputs": [],
   "source": [
    "from sklearn.linear_model import LogisticRegression\n",
    "from sklearn.neighbors import KNeighborsClassifier\n",
    "from sklearn.ensemble import RandomForestClassifier\n",
    "from sklearn.svm import SVC\n",
    "from sklearn.ensemble import VotingClassifier\n",
    "from sklearn.metrics import classification_report,confusion_matrix\n",
    "from sklearn.model_selection import cross_val_score"
   ]
  },
  {
   "cell_type": "code",
   "execution_count": 44,
   "metadata": {
    "execution": {
     "iopub.execute_input": "2020-11-26T08:08:04.864296Z",
     "iopub.status.busy": "2020-11-26T08:08:04.863108Z",
     "iopub.status.idle": "2020-11-26T08:08:04.867327Z",
     "shell.execute_reply": "2020-11-26T08:08:04.866637Z"
    },
    "papermill": {
     "duration": 0.13071,
     "end_time": "2020-11-26T08:08:04.867458",
     "exception": false,
     "start_time": "2020-11-26T08:08:04.736748",
     "status": "completed"
    },
    "tags": []
   },
   "outputs": [],
   "source": [
    "X = df_final.drop('Survived',axis=1)\n",
    "y = df_final['Survived']"
   ]
  },
  {
   "cell_type": "code",
   "execution_count": 45,
   "metadata": {
    "execution": {
     "iopub.execute_input": "2020-11-26T08:08:05.101746Z",
     "iopub.status.busy": "2020-11-26T08:08:05.100642Z",
     "iopub.status.idle": "2020-11-26T08:08:05.104190Z",
     "shell.execute_reply": "2020-11-26T08:08:05.103376Z"
    },
    "papermill": {
     "duration": 0.126263,
     "end_time": "2020-11-26T08:08:05.104326",
     "exception": false,
     "start_time": "2020-11-26T08:08:04.978063",
     "status": "completed"
    },
    "tags": []
   },
   "outputs": [],
   "source": [
    "lr = LogisticRegression(solver='liblinear',max_iter=200)\n",
    "knn = KNeighborsClassifier(n_neighbors=10)\n",
    "forest = RandomForestClassifier(n_estimators=200)\n",
    "svc = SVC()"
   ]
  },
  {
   "cell_type": "code",
   "execution_count": 46,
   "metadata": {
    "execution": {
     "iopub.execute_input": "2020-11-26T08:08:05.348137Z",
     "iopub.status.busy": "2020-11-26T08:08:05.346944Z",
     "iopub.status.idle": "2020-11-26T08:08:12.014102Z",
     "shell.execute_reply": "2020-11-26T08:08:12.013375Z"
    },
    "papermill": {
     "duration": 6.791454,
     "end_time": "2020-11-26T08:08:12.014248",
     "exception": false,
     "start_time": "2020-11-26T08:08:05.222794",
     "status": "completed"
    },
    "tags": []
   },
   "outputs": [
    {
     "name": "stdout",
     "output_type": "stream",
     "text": [
      "Accuracy: 0.80 (+/- 0.06)\n",
      "Accuracy: 0.79 (+/- 0.09)\n",
      "Accuracy: 0.81 (+/- 0.07)\n",
      "Accuracy: 0.80 (+/- 0.07)\n"
     ]
    }
   ],
   "source": [
    "models = [lr, knn, forest, svc]\n",
    "\n",
    "scores = []\n",
    "for model in models:\n",
    "    scores.append(cross_val_score(model,X,y,cv=10))\n",
    "\n",
    "for score in scores:\n",
    "    print(\"Accuracy: %0.2f (+/- %0.2f)\" % (score.mean(), score.std() * 2))"
   ]
  },
  {
   "cell_type": "markdown",
   "metadata": {
    "papermill": {
     "duration": 0.108009,
     "end_time": "2020-11-26T08:08:12.235819",
     "exception": false,
     "start_time": "2020-11-26T08:08:12.127810",
     "status": "completed"
    },
    "tags": []
   },
   "source": [
    "Not bad! Let's see how the voting classifier does:"
   ]
  },
  {
   "cell_type": "code",
   "execution_count": 47,
   "metadata": {
    "execution": {
     "iopub.execute_input": "2020-11-26T08:08:12.467294Z",
     "iopub.status.busy": "2020-11-26T08:08:12.465972Z",
     "iopub.status.idle": "2020-11-26T08:08:12.469865Z",
     "shell.execute_reply": "2020-11-26T08:08:12.469112Z"
    },
    "papermill": {
     "duration": 0.122541,
     "end_time": "2020-11-26T08:08:12.469987",
     "exception": false,
     "start_time": "2020-11-26T08:08:12.347446",
     "status": "completed"
    },
    "tags": []
   },
   "outputs": [],
   "source": [
    "vote = VotingClassifier(estimators=[('knn',knn),('forest',forest),('svc',svc),('lr',lr)])"
   ]
  },
  {
   "cell_type": "code",
   "execution_count": 48,
   "metadata": {
    "execution": {
     "iopub.execute_input": "2020-11-26T08:08:12.707074Z",
     "iopub.status.busy": "2020-11-26T08:08:12.706229Z",
     "iopub.status.idle": "2020-11-26T08:08:19.604256Z",
     "shell.execute_reply": "2020-11-26T08:08:19.603297Z"
    },
    "papermill": {
     "duration": 7.025201,
     "end_time": "2020-11-26T08:08:19.604408",
     "exception": false,
     "start_time": "2020-11-26T08:08:12.579207",
     "status": "completed"
    },
    "tags": []
   },
   "outputs": [],
   "source": [
    "score = cross_val_score(vote,X,y,cv=10)"
   ]
  },
  {
   "cell_type": "code",
   "execution_count": 49,
   "metadata": {
    "execution": {
     "iopub.execute_input": "2020-11-26T08:08:19.844582Z",
     "iopub.status.busy": "2020-11-26T08:08:19.843513Z",
     "iopub.status.idle": "2020-11-26T08:08:19.847722Z",
     "shell.execute_reply": "2020-11-26T08:08:19.848458Z"
    },
    "papermill": {
     "duration": 0.126765,
     "end_time": "2020-11-26T08:08:19.848700",
     "exception": false,
     "start_time": "2020-11-26T08:08:19.721935",
     "status": "completed"
    },
    "tags": []
   },
   "outputs": [
    {
     "name": "stdout",
     "output_type": "stream",
     "text": [
      "Accuracy: 0.82 (+/- 0.07)\n"
     ]
    }
   ],
   "source": [
    "print(\"Accuracy: %0.2f (+/- %0.2f)\" % (score.mean(), score.std() * 2))"
   ]
  },
  {
   "cell_type": "markdown",
   "metadata": {
    "papermill": {
     "duration": 0.119883,
     "end_time": "2020-11-26T08:08:20.085826",
     "exception": false,
     "start_time": "2020-11-26T08:08:19.965943",
     "status": "completed"
    },
    "tags": []
   },
   "source": [
    "The voting classifier does better than each of the other classifiers. This is the power of ensemble methods!"
   ]
  },
  {
   "cell_type": "markdown",
   "metadata": {
    "papermill": {
     "duration": 0.114468,
     "end_time": "2020-11-26T08:08:20.320735",
     "exception": false,
     "start_time": "2020-11-26T08:08:20.206267",
     "status": "completed"
    },
    "tags": []
   },
   "source": [
    "Now we will use the voting classifier on the test data and submit our predictions:"
   ]
  },
  {
   "cell_type": "code",
   "execution_count": 50,
   "metadata": {
    "execution": {
     "iopub.execute_input": "2020-11-26T08:08:20.564530Z",
     "iopub.status.busy": "2020-11-26T08:08:20.563444Z",
     "iopub.status.idle": "2020-11-26T08:08:20.574388Z",
     "shell.execute_reply": "2020-11-26T08:08:20.573443Z"
    },
    "papermill": {
     "duration": 0.13972,
     "end_time": "2020-11-26T08:08:20.574539",
     "exception": false,
     "start_time": "2020-11-26T08:08:20.434819",
     "status": "completed"
    },
    "tags": []
   },
   "outputs": [],
   "source": [
    "test_df = pd.read_csv('../input/titanic/test.csv')"
   ]
  },
  {
   "cell_type": "markdown",
   "metadata": {
    "papermill": {
     "duration": 0.118943,
     "end_time": "2020-11-26T08:08:20.812993",
     "exception": false,
     "start_time": "2020-11-26T08:08:20.694050",
     "status": "completed"
    },
    "tags": []
   },
   "source": [
    "First, we apply all the transformations we did for our training set:"
   ]
  },
  {
   "cell_type": "code",
   "execution_count": 51,
   "metadata": {
    "execution": {
     "iopub.execute_input": "2020-11-26T08:08:21.064097Z",
     "iopub.status.busy": "2020-11-26T08:08:21.062886Z",
     "iopub.status.idle": "2020-11-26T08:08:21.067231Z",
     "shell.execute_reply": "2020-11-26T08:08:21.066372Z"
    },
    "papermill": {
     "duration": 0.13285,
     "end_time": "2020-11-26T08:08:21.067374",
     "exception": false,
     "start_time": "2020-11-26T08:08:20.934524",
     "status": "completed"
    },
    "tags": []
   },
   "outputs": [],
   "source": [
    "p_id = test_df['PassengerId']\n",
    "\n",
    "test_df = test_df.drop('PassengerId',axis=1)"
   ]
  },
  {
   "cell_type": "code",
   "execution_count": 52,
   "metadata": {
    "execution": {
     "iopub.execute_input": "2020-11-26T08:08:21.326121Z",
     "iopub.status.busy": "2020-11-26T08:08:21.313997Z",
     "iopub.status.idle": "2020-11-26T08:08:24.355812Z",
     "shell.execute_reply": "2020-11-26T08:08:24.354996Z"
    },
    "papermill": {
     "duration": 3.171022,
     "end_time": "2020-11-26T08:08:24.355978",
     "exception": false,
     "start_time": "2020-11-26T08:08:21.184956",
     "status": "completed"
    },
    "tags": []
   },
   "outputs": [],
   "source": [
    "test_df['title']= test_df['Name'].apply(splitter)\n",
    "test_df['deck'] = test_df['Cabin'].apply(lambda x: str(x).split(' ')[0]).apply(remove_digits)\n",
    "test_df['title'] = test_df['title'].apply(lambda x: 'Other' if x not in ['Mr','Master','Miss','Mrs'] else x)\n",
    "test_df['alone'] = (test_df['SibSp'] + test_df['Parch']).apply(lambda x: 1 if x==0 else 0)\n",
    "test_df['age_imp'] = test_df[['Age','title']].apply(imp,axis=1)\n",
    "test_df['fare_bins'] = pd.qcut(x=test_df['Fare'],q=10,labels=[1,2,3,4,5,6,7,8,9,10],duplicates='drop')\n",
    "test_df['age_bins'] = pd.qcut(x=test_df['age_imp'],q=10,labels=[1,2,3,4,5,6,7,8,9],duplicates='drop')"
   ]
  },
  {
   "cell_type": "code",
   "execution_count": 53,
   "metadata": {
    "execution": {
     "iopub.execute_input": "2020-11-26T08:08:24.594094Z",
     "iopub.status.busy": "2020-11-26T08:08:24.593165Z",
     "iopub.status.idle": "2020-11-26T08:08:24.597185Z",
     "shell.execute_reply": "2020-11-26T08:08:24.596317Z"
    },
    "papermill": {
     "duration": 0.127229,
     "end_time": "2020-11-26T08:08:24.597343",
     "exception": false,
     "start_time": "2020-11-26T08:08:24.470114",
     "status": "completed"
    },
    "tags": []
   },
   "outputs": [],
   "source": [
    "test_df['deck'] = test_df['deck'].map({'A':'ABC','B':'ABC','C':'ABC','D':'DE','E':'DE','F':'FG','G':'FG','n':'U'})"
   ]
  },
  {
   "cell_type": "code",
   "execution_count": 54,
   "metadata": {
    "execution": {
     "iopub.execute_input": "2020-11-26T08:08:24.848432Z",
     "iopub.status.busy": "2020-11-26T08:08:24.846529Z",
     "iopub.status.idle": "2020-11-26T08:08:24.859584Z",
     "shell.execute_reply": "2020-11-26T08:08:24.858707Z"
    },
    "papermill": {
     "duration": 0.15103,
     "end_time": "2020-11-26T08:08:24.859725",
     "exception": false,
     "start_time": "2020-11-26T08:08:24.708695",
     "status": "completed"
    },
    "tags": []
   },
   "outputs": [],
   "source": [
    "test_dummies = pd.get_dummies(test_df[['Embarked','Sex','title','deck']],drop_first=True)\n",
    "\n",
    "test_df_final = pd.concat([test_df,test_dummies],axis=1).drop(\n",
    "    ['Age','SibSp','Parch','Fare','Name','Sex','Ticket','Cabin','Embarked','title','age_imp','deck'],axis=1)"
   ]
  },
  {
   "cell_type": "code",
   "execution_count": 55,
   "metadata": {
    "execution": {
     "iopub.execute_input": "2020-11-26T08:08:25.120055Z",
     "iopub.status.busy": "2020-11-26T08:08:25.113014Z",
     "iopub.status.idle": "2020-11-26T08:08:25.126144Z",
     "shell.execute_reply": "2020-11-26T08:08:25.127093Z"
    },
    "papermill": {
     "duration": 0.148445,
     "end_time": "2020-11-26T08:08:25.127384",
     "exception": false,
     "start_time": "2020-11-26T08:08:24.978939",
     "status": "completed"
    },
    "tags": []
   },
   "outputs": [
    {
     "name": "stdout",
     "output_type": "stream",
     "text": [
      "<class 'pandas.core.frame.DataFrame'>\n",
      "RangeIndex: 418 entries, 0 to 417\n",
      "Data columns (total 14 columns):\n",
      " #   Column       Non-Null Count  Dtype   \n",
      "---  ------       --------------  -----   \n",
      " 0   Pclass       418 non-null    int64   \n",
      " 1   alone        418 non-null    int64   \n",
      " 2   fare_bins    417 non-null    category\n",
      " 3   age_bins     418 non-null    category\n",
      " 4   Embarked_Q   418 non-null    uint8   \n",
      " 5   Embarked_S   418 non-null    uint8   \n",
      " 6   Sex_male     418 non-null    uint8   \n",
      " 7   title_Miss   418 non-null    uint8   \n",
      " 8   title_Mr     418 non-null    uint8   \n",
      " 9   title_Mrs    418 non-null    uint8   \n",
      " 10  title_Other  418 non-null    uint8   \n",
      " 11  deck_DE      418 non-null    uint8   \n",
      " 12  deck_FG      418 non-null    uint8   \n",
      " 13  deck_U       418 non-null    uint8   \n",
      "dtypes: category(2), int64(2), uint8(10)\n",
      "memory usage: 12.3 KB\n"
     ]
    }
   ],
   "source": [
    "test_df_final.info()"
   ]
  },
  {
   "cell_type": "markdown",
   "metadata": {
    "papermill": {
     "duration": 0.120329,
     "end_time": "2020-11-26T08:08:25.372801",
     "exception": false,
     "start_time": "2020-11-26T08:08:25.252472",
     "status": "completed"
    },
    "tags": []
   },
   "source": [
    "The fare_bins column still has a null value:"
   ]
  },
  {
   "cell_type": "code",
   "execution_count": 56,
   "metadata": {
    "execution": {
     "iopub.execute_input": "2020-11-26T08:08:25.625210Z",
     "iopub.status.busy": "2020-11-26T08:08:25.622674Z",
     "iopub.status.idle": "2020-11-26T08:08:25.635169Z",
     "shell.execute_reply": "2020-11-26T08:08:25.634371Z"
    },
    "papermill": {
     "duration": 0.145568,
     "end_time": "2020-11-26T08:08:25.635317",
     "exception": false,
     "start_time": "2020-11-26T08:08:25.489749",
     "status": "completed"
    },
    "tags": []
   },
   "outputs": [
    {
     "data": {
      "text/html": [
       "<div>\n",
       "<style scoped>\n",
       "    .dataframe tbody tr th:only-of-type {\n",
       "        vertical-align: middle;\n",
       "    }\n",
       "\n",
       "    .dataframe tbody tr th {\n",
       "        vertical-align: top;\n",
       "    }\n",
       "\n",
       "    .dataframe thead th {\n",
       "        text-align: right;\n",
       "    }\n",
       "</style>\n",
       "<table border=\"1\" class=\"dataframe\">\n",
       "  <thead>\n",
       "    <tr style=\"text-align: right;\">\n",
       "      <th></th>\n",
       "      <th>Pclass</th>\n",
       "      <th>alone</th>\n",
       "      <th>fare_bins</th>\n",
       "      <th>age_bins</th>\n",
       "      <th>Embarked_Q</th>\n",
       "      <th>Embarked_S</th>\n",
       "      <th>Sex_male</th>\n",
       "      <th>title_Miss</th>\n",
       "      <th>title_Mr</th>\n",
       "      <th>title_Mrs</th>\n",
       "      <th>title_Other</th>\n",
       "      <th>deck_DE</th>\n",
       "      <th>deck_FG</th>\n",
       "      <th>deck_U</th>\n",
       "    </tr>\n",
       "  </thead>\n",
       "  <tbody>\n",
       "    <tr>\n",
       "      <th>152</th>\n",
       "      <td>3</td>\n",
       "      <td>1</td>\n",
       "      <td>NaN</td>\n",
       "      <td>9</td>\n",
       "      <td>0</td>\n",
       "      <td>1</td>\n",
       "      <td>1</td>\n",
       "      <td>0</td>\n",
       "      <td>1</td>\n",
       "      <td>0</td>\n",
       "      <td>0</td>\n",
       "      <td>0</td>\n",
       "      <td>0</td>\n",
       "      <td>1</td>\n",
       "    </tr>\n",
       "  </tbody>\n",
       "</table>\n",
       "</div>"
      ],
      "text/plain": [
       "     Pclass  alone fare_bins age_bins  Embarked_Q  Embarked_S  Sex_male  \\\n",
       "152       3      1       NaN        9           0           1         1   \n",
       "\n",
       "     title_Miss  title_Mr  title_Mrs  title_Other  deck_DE  deck_FG  deck_U  \n",
       "152           0         1          0            0        0        0       1  "
      ]
     },
     "execution_count": 56,
     "metadata": {},
     "output_type": "execute_result"
    }
   ],
   "source": [
    "test_df_final[test_df_final['fare_bins'].isnull()]"
   ]
  },
  {
   "cell_type": "markdown",
   "metadata": {
    "papermill": {
     "duration": 0.115447,
     "end_time": "2020-11-26T08:08:25.867218",
     "exception": false,
     "start_time": "2020-11-26T08:08:25.751771",
     "status": "completed"
    },
    "tags": []
   },
   "source": [
    "We'll fill it with the most common value from the training set:"
   ]
  },
  {
   "cell_type": "code",
   "execution_count": 57,
   "metadata": {
    "execution": {
     "iopub.execute_input": "2020-11-26T08:08:26.121589Z",
     "iopub.status.busy": "2020-11-26T08:08:26.119325Z",
     "iopub.status.idle": "2020-11-26T08:08:26.125517Z",
     "shell.execute_reply": "2020-11-26T08:08:26.124721Z"
    },
    "papermill": {
     "duration": 0.134647,
     "end_time": "2020-11-26T08:08:26.125676",
     "exception": false,
     "start_time": "2020-11-26T08:08:25.991029",
     "status": "completed"
    },
    "tags": []
   },
   "outputs": [],
   "source": [
    "test_df_final.loc[152,'fare_bins'] = X['fare_bins_10'].mode()[0]"
   ]
  },
  {
   "cell_type": "markdown",
   "metadata": {
    "papermill": {
     "duration": 0.115024,
     "end_time": "2020-11-26T08:08:26.356153",
     "exception": false,
     "start_time": "2020-11-26T08:08:26.241129",
     "status": "completed"
    },
    "tags": []
   },
   "source": [
    "Finally we train our voting classifier and use it to make predictions on the test set:"
   ]
  },
  {
   "cell_type": "code",
   "execution_count": 58,
   "metadata": {
    "execution": {
     "iopub.execute_input": "2020-11-26T08:08:26.593094Z",
     "iopub.status.busy": "2020-11-26T08:08:26.592268Z",
     "iopub.status.idle": "2020-11-26T08:08:27.345901Z",
     "shell.execute_reply": "2020-11-26T08:08:27.345136Z"
    },
    "papermill": {
     "duration": 0.875118,
     "end_time": "2020-11-26T08:08:27.346064",
     "exception": false,
     "start_time": "2020-11-26T08:08:26.470946",
     "status": "completed"
    },
    "tags": []
   },
   "outputs": [],
   "source": [
    "vote.fit(X,y)\n",
    "\n",
    "preds = vote.predict(test_df_final)"
   ]
  },
  {
   "cell_type": "markdown",
   "metadata": {
    "papermill": {
     "duration": 0.121241,
     "end_time": "2020-11-26T08:08:27.590988",
     "exception": false,
     "start_time": "2020-11-26T08:08:27.469747",
     "status": "completed"
    },
    "tags": []
   },
   "source": [
    "Now let's make a CSV file to submit:"
   ]
  },
  {
   "cell_type": "code",
   "execution_count": 59,
   "metadata": {
    "execution": {
     "iopub.execute_input": "2020-11-26T08:08:27.842622Z",
     "iopub.status.busy": "2020-11-26T08:08:27.841415Z",
     "iopub.status.idle": "2020-11-26T08:08:28.195039Z",
     "shell.execute_reply": "2020-11-26T08:08:28.194169Z"
    },
    "papermill": {
     "duration": 0.481601,
     "end_time": "2020-11-26T08:08:28.195189",
     "exception": false,
     "start_time": "2020-11-26T08:08:27.713588",
     "status": "completed"
    },
    "tags": []
   },
   "outputs": [],
   "source": [
    "submission = pd.DataFrame({'PassengerId':p_id,'Survived':preds})\n",
    "\n",
    "\n",
    "submission.to_csv('20201126_vote.csv',index=False)"
   ]
  }
 ],
 "metadata": {
  "kernelspec": {
   "display_name": "Python 3",
   "language": "python",
   "name": "python3"
  },
  "language_info": {
   "codemirror_mode": {
    "name": "ipython",
    "version": 3
   },
   "file_extension": ".py",
   "mimetype": "text/x-python",
   "name": "python",
   "nbconvert_exporter": "python",
   "pygments_lexer": "ipython3",
   "version": "3.7.6"
  },
  "papermill": {
   "duration": 57.941164,
   "end_time": "2020-11-26T08:08:28.430263",
   "environment_variables": {},
   "exception": null,
   "input_path": "__notebook__.ipynb",
   "output_path": "__notebook__.ipynb",
   "parameters": {},
   "start_time": "2020-11-26T08:07:30.489099",
   "version": "2.1.0"
  }
 },
 "nbformat": 4,
 "nbformat_minor": 4
}
